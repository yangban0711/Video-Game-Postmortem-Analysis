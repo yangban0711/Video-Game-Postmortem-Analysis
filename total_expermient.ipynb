{
 "cells": [
  {
   "cell_type": "markdown",
   "id": "3b8f78f1-2a17-4722-849c-479d53874a13",
   "metadata": {},
   "source": [
    "#### 1. WE 준비"
   ]
  },
  {
   "cell_type": "code",
   "execution_count": 1,
   "id": "b6ad93d5-1a32-491d-9b88-94e86956eb1e",
   "metadata": {
    "tags": []
   },
   "outputs": [
    {
     "name": "stdout",
     "output_type": "stream",
     "text": [
      "==========W2V Loaded==========\n"
     ]
    },
    {
     "name": "stderr",
     "output_type": "stream",
     "text": [
      "Some weights of the model checkpoint at bert-base-uncased were not used when initializing BertModel: ['cls.predictions.transform.dense.weight', 'cls.predictions.transform.LayerNorm.weight', 'cls.predictions.decoder.weight', 'cls.predictions.bias', 'cls.seq_relationship.bias', 'cls.predictions.transform.LayerNorm.bias', 'cls.seq_relationship.weight', 'cls.predictions.transform.dense.bias']\n",
      "- This IS expected if you are initializing BertModel from the checkpoint of a model trained on another task or with another architecture (e.g. initializing a BertForSequenceClassification model from a BertForPreTraining model).\n",
      "- This IS NOT expected if you are initializing BertModel from the checkpoint of a model that you expect to be exactly identical (initializing a BertForSequenceClassification model from a BertForSequenceClassification model).\n"
     ]
    },
    {
     "name": "stdout",
     "output_type": "stream",
     "text": [
      "=========BERT Loaded==========\n"
     ]
    }
   ],
   "source": [
    "import nltk\n",
    "import time\n",
    "import string\n",
    "import numpy as np\n",
    "import pandas as pd\n",
    "from typing import Dict\n",
    "\n",
    "from SMTPSender import SMTPSender\n",
    "SMTPSender.load_auth()\n",
    "\n",
    "from sklearn.decomposition import PCA\n",
    "from sklearn.discriminant_analysis import LinearDiscriminantAnalysis\n",
    "\n",
    "from gensim.models import Word2Vec\n",
    "from nltk.tokenize import word_tokenize\n",
    "from sklearn.ensemble import RandomForestClassifier\n",
    "from sklearn.metrics import mean_squared_error\n",
    "from sklearn.model_selection import train_test_split\n",
    "from nltk.corpus import stopwords\n",
    "from gensim.models import KeyedVectors\n",
    "import xgboost as xgb\n",
    "from sklearn.svm import SVC\n",
    "from skopt import BayesSearchCV\n",
    "from skopt.space import Real, Integer, Categorical\n",
    "\n",
    "from sklearn.linear_model import LogisticRegression\n",
    "from sklearn.preprocessing import LabelEncoder, OneHotEncoder\n",
    "from transformers import BertTokenizer, BertModel\n",
    "from sklearn.feature_extraction.text import TfidfVectorizer\n",
    "\n",
    "from sklearn.metrics import mean_squared_error, f1_score, roc_auc_score\n",
    "\n",
    "# 특정 단어에 대한 임베딩 얻기\n",
    "def get_embbeding_of_a_word(target_word: str, tokenizer, outputs, tokens):\n",
    "    try:\n",
    "        word_index = tokens['input_ids'][0].tolist().index(tokenizer.convert_tokens_to_ids(target_word))\n",
    "    \n",
    "        return outputs.last_hidden_state[:, word_index, :]\n",
    "    except Exception as exp:\n",
    "        return None\n",
    "    \n",
    "#################################3\n",
    "from gensim.models import KeyedVectors\n",
    "import gensim.downloader as api\n",
    "\n",
    "# 구글의 Word2Vec 모델 다운로드\n",
    "# w2v_model = api.load(\"word2vec-google-news-300\")\n",
    "# print(f\"{'Downloaded':=^30}\")\n",
    "\n",
    "# # 모델을 로컬에 저장\n",
    "# w2v_model.save('/home/hooni/gensim-data/word2vec-google-news-300/word2vec-google-news-300')\n",
    "# print(f\"{'Saved':=^30}\")\n",
    "#####################################\n",
    "\n",
    "\n",
    "# Word2Vec 모델 생성\n",
    "w2v_vector_size = 300\n",
    "\n",
    "# Pre-trained 모델\n",
    "# model = w2v_model\n",
    "w2v_model_path = '/home/hooni/gensim-data/word2vec-google-news-300/word2vec-google-news-300'\n",
    "w2v_model = KeyedVectors.load(w2v_model_path)\n",
    "print(f\"{'W2V Loaded':=^30}\")\n",
    "\n",
    "bert_vector_size = 768\n",
    "\n",
    "tokenizer = BertTokenizer.from_pretrained('bert-base-uncased')\n",
    "bert_model = BertModel.from_pretrained('bert-base-uncased')\n",
    "print(f\"{'BERT Loaded':=^30}\")"
   ]
  },
  {
   "cell_type": "markdown",
   "id": "ff2057ec-328c-400a-b250-e05196e6ba5e",
   "metadata": {},
   "source": [
    "##### 1-1. 데이터셋 로드"
   ]
  },
  {
   "cell_type": "code",
   "execution_count": 2,
   "id": "81bd12c1-1ac9-4ea6-b490-57fccc0f8010",
   "metadata": {
    "tags": []
   },
   "outputs": [
    {
     "name": "stderr",
     "output_type": "stream",
     "text": [
      "/home/hooni/anaconda3/lib/python3.11/site-packages/sklearn/preprocessing/_encoders.py:868: FutureWarning: `sparse` was renamed to `sparse_output` in version 1.2 and will be removed in 1.4. `sparse_output` is ignored unless you leave `sparse` to its default value.\n",
      "  warnings.warn(\n"
     ]
    }
   ],
   "source": [
    "# 데이터셋 로드\n",
    "total_file_path = \"data/dataset.txt\"\n",
    "total_documents = []\n",
    "total_document = []\n",
    "\n",
    "with open(total_file_path, 'r', encoding='utf-8') as file:\n",
    "    # Postmortum 읽기\n",
    "    for line in file:\n",
    "        # Document separation\n",
    "        if line == '\\n':\n",
    "            total_documents.append('\\n'.join(total_document))\n",
    "            total_document = []\n",
    "\n",
    "        # Add to document\n",
    "        total_document.append(line)\n",
    "\n",
    "    # For last game document\n",
    "    total_documents.append('\\n'.join(total_document))\n",
    "\n",
    "total_documents = np.array(total_documents).reshape(-1, 1)\n",
    "\n",
    "# 목표값 로드\n",
    "file_path = 'data/classification.txt'\n",
    "class_list = []\n",
    "\n",
    "class_size = 28   ### 29 -> 28\n",
    "with open(file_path, 'r') as file:\n",
    "    for line in file:\n",
    "        class_type = str(line.strip())\n",
    "        class_list.append(class_type)\n",
    "        \n",
    "class_list = np.array(class_list)\n",
    "ohe = OneHotEncoder(sparse=False)\n",
    "le = LabelEncoder()\n",
    "le_label = le.fit_transform(class_list).reshape(-1, 1)\n",
    "ohe_label = ohe.fit_transform(class_list)\n",
    "\n",
    "# 데이터 병합\n",
    "label_size = le_label.shape[1] + ohe_label.shape[1]\n",
    "data_index = np.arange(1, total_documents.shape[0] + 1).reshape(-1, 1)\n",
    "data = np.hstack((data_index, total_documents, le_label, ohe_label))"
   ]
  },
  {
   "cell_type": "markdown",
   "id": "31d1b8c1-ea27-495b-bc2c-26e7ef585a0a",
   "metadata": {
    "tags": []
   },
   "source": [
    "##### 1-2. 데이터 분할"
   ]
  },
  {
   "cell_type": "code",
   "execution_count": 3,
   "id": "c96aabc3-4a06-4cf4-bf90-7f0e838bcf58",
   "metadata": {
    "tags": []
   },
   "outputs": [],
   "source": [
    "# 데이터셋 분할\n",
    "test_ratio = 0.2\n",
    "index_size = 1\n",
    "X_train, X_test, y_train, y_test = train_test_split(data[:, :-label_size],\n",
    "                                                    data[:, -label_size:],\n",
    "                                                    test_size=test_ratio,\n",
    "                                                    stratify=data[:, -label_size:-label_size + le_label.shape[1]],\n",
    "                                                    random_state=0)\n",
    "\n",
    "# 자료형 변환\n",
    "X_train_index, X_test_index = X_train[:, :index_size].astype(int).flatten(), X_test[:, :index_size].astype(int).flatten()\n",
    "X_train, X_test = X_train[:, index_size:], X_test[:, index_size:]\n",
    "X_train = X_train.flatten()\n",
    "X_test = X_test.flatten()\n",
    "y_train_ohe = y_train[:, le_label.shape[1]:].astype(np.float64)\n",
    "y_test_ohe = y_test[:, le_label.shape[1]:].astype(np.float64)\n",
    "y_train_le = y_train[:, :le_label.shape[1]].astype(np.float64).flatten()\n",
    "y_test_le = y_test[:, :le_label.shape[1]].astype(np.float64).flatten()"
   ]
  },
  {
   "cell_type": "markdown",
   "id": "2091f3f1-3c8b-4726-b257-f1b886b915b7",
   "metadata": {},
   "source": [
    "##### 1-3. 워드 임베딩"
   ]
  },
  {
   "cell_type": "markdown",
   "id": "7ee47946-e997-4743-8a1d-4466fcd73a9e",
   "metadata": {},
   "source": [
    "###### a. Tf-Idf"
   ]
  },
  {
   "cell_type": "code",
   "execution_count": 4,
   "id": "d30cc4f1-99f7-4ebf-9dfb-1a64885311f1",
   "metadata": {
    "tags": []
   },
   "outputs": [
    {
     "name": "stdout",
     "output_type": "stream",
     "text": [
      "tfidf_X_train.shape=(534, 4513)\n",
      "tfidf_X_test.shape=(134, 4513)\n"
     ]
    }
   ],
   "source": [
    "tfidf_vectorizer = TfidfVectorizer()\n",
    "tfidf_X_train = tfidf_vectorizer.fit_transform(X_train).toarray()\n",
    "print(f'{tfidf_X_train.shape=}')\n",
    "\n",
    "tfidf_X_test = tfidf_vectorizer.transform(X_test).toarray()\n",
    "print(f'{tfidf_X_test.shape=}')"
   ]
  },
  {
   "cell_type": "markdown",
   "id": "32f08c91-adf0-41e8-839e-3d157aeaf112",
   "metadata": {},
   "source": [
    "###### b. Word2Vec"
   ]
  },
  {
   "cell_type": "code",
   "execution_count": 5,
   "id": "8705cfb7-5470-48e4-a2a4-1d413d18d57a",
   "metadata": {
    "tags": []
   },
   "outputs": [
    {
     "name": "stdout",
     "output_type": "stream",
     "text": [
      "[#71] Weird paragraph: \n",
      "\n",
      "What did we do?\n",
      "\n",
      "[#74] Weird paragraph: \n",
      "\n",
      "The Chindi\n",
      "\n",
      "[#447] Weird paragraph: \n",
      "\n",
      "Some examples:\n",
      "\n",
      "Job done\n"
     ]
    }
   ],
   "source": [
    "stop_words = set(stopwords.words('english'))\n",
    "\n",
    "# 워드 임베딩\n",
    "w2v_weird_document_index = []\n",
    "total_document_vectors = np.array([]).reshape(0, w2v_vector_size)\n",
    "for document_index, document in enumerate(np.concatenate((X_train, X_test))):\n",
    "    # 한 게임에 대한 임베딩\n",
    "    document_vectors = np.array([]).reshape(0, w2v_vector_size)\n",
    "    \n",
    "    # Tokenize\n",
    "    tokens = str(document).lower().strip().split()  # 문장을 공백으로 나누어 단어 리스트로 변환\n",
    "\n",
    "    # Preprocess\n",
    "    tokens = [word for word in tokens if word.isalpha()]  # 문자열만 포함\n",
    "    tokens = [word for word in tokens if word not in stop_words]  # 불용어 제거\n",
    "    tokens = [word for word in tokens if word not in string.punctuation]  # 구두점 제거\n",
    "    \n",
    "    # 게임 내 한 단어에 대한 임베딩\n",
    "    count = 0\n",
    "    for word in tokens:\n",
    "        if word in w2v_model:\n",
    "            document_vectors = np.vstack((document_vectors, w2v_model[word]))\n",
    "            count += 1\n",
    "\n",
    "    if count > 0:\n",
    "        # Feature vector of a document (game)\n",
    "        document_vectors = document_vectors.mean(axis=0)\n",
    "\n",
    "        # Append to total document vector\n",
    "        total_document_vectors = np.vstack((total_document_vectors, document_vectors))\n",
    "    else:\n",
    "        print(f'[#{document_index}] Weird paragraph: {document}')\n",
    "        w2v_weird_document_index.append(document_index)\n",
    "\n",
    "w2v_weird_document_index = np.array(w2v_weird_document_index)\n",
    "w2v_X_train = total_document_vectors[:X_train.shape[0] - w2v_weird_document_index[w2v_weird_document_index < X_train.shape[0]].shape[0]]\n",
    "w2v_X_test = total_document_vectors[X_train.shape[0] - w2v_weird_document_index[w2v_weird_document_index < X_train.shape[0]].shape[0]:]\n",
    "\n",
    "# Debug\n",
    "print('Job done')"
   ]
  },
  {
   "cell_type": "markdown",
   "id": "1fd1d41f-5e18-4d80-ac79-eb7cab925be6",
   "metadata": {},
   "source": [
    "###### 3. BERT"
   ]
  },
  {
   "cell_type": "code",
   "execution_count": 6,
   "id": "c6488c26-ec86-4127-bf15-801077c21a34",
   "metadata": {
    "tags": []
   },
   "outputs": [
    {
     "name": "stderr",
     "output_type": "stream",
     "text": [
      "Truncation was not explicitly activated but `max_length` is provided a specific value, please use `truncation=True` to explicitly truncate examples to max length. Defaulting to 'longest_first' truncation strategy. If you encode pairs of sequences (GLUE-style) with the tokenizer you can select this strategy more precisely by providing a specific strategy to `truncation`.\n"
     ]
    },
    {
     "name": "stdout",
     "output_type": "stream",
     "text": [
      "Job done\n"
     ]
    }
   ],
   "source": [
    "bert_vector_size = 768\n",
    "\n",
    "# 워드 임베딩\n",
    "total_document_vectors = np.array([]).reshape(0, bert_vector_size)\n",
    "for total_document in np.concatenate((X_train, X_test)):\n",
    "    document_vectors = np.array([]).reshape(0, bert_vector_size)\n",
    "    \n",
    "    # tokenizing\n",
    "    tokens = tokenizer(str(total_document),\n",
    "                       return_tensors='pt',\n",
    "                       max_length=512)\n",
    "    \n",
    "    # Word embedding\n",
    "    outputs = bert_model(**tokens)\n",
    "        \n",
    "    # Feature vector of a document (game)\n",
    "    document_vectors = outputs.last_hidden_state.mean(axis=1)\n",
    "    \n",
    "    # Append to total document vector\n",
    "    total_document_vectors = np.vstack((total_document_vectors, document_vectors.detach().numpy()))\n",
    "    \n",
    "bert_X_train = total_document_vectors[:X_train.shape[0]]\n",
    "bert_X_test = total_document_vectors[X_train.shape[0]:]\n",
    "\n",
    "# Debug\n",
    "print('Job done')"
   ]
  },
  {
   "cell_type": "markdown",
   "id": "0f858301-d36a-47de-9c8a-2ecc8737e713",
   "metadata": {},
   "source": [
    "###### 1-4. 차원 축소"
   ]
  },
  {
   "cell_type": "markdown",
   "id": "842910ed-8e04-41f1-87a7-250721f6f602",
   "metadata": {},
   "source": [
    "###### a. PCA"
   ]
  },
  {
   "cell_type": "code",
   "execution_count": 7,
   "id": "f8cd1ed6-7e73-4725-8310-d41696cff038",
   "metadata": {
    "tags": []
   },
   "outputs": [
    {
     "name": "stdout",
     "output_type": "stream",
     "text": [
      "Tf-Idf Reduced Dimension: 4513 -> 440\n",
      "W2V Reduced Dimension: 300 -> 118\n",
      "BERT Reduced Dimension: 768 -> 162\n"
     ]
    }
   ],
   "source": [
    "pca_var_ratio = 0.95\n",
    "pca = PCA(n_components=pca_var_ratio)\n",
    "\n",
    "# 1. TF-IDF\n",
    "original_dimension = tfidf_X_train.shape[1]\n",
    "tfidf_pca_X_train = pca.fit_transform(tfidf_X_train)\n",
    "tfidf_pca_X_test = pca.transform(tfidf_X_test)\n",
    "\n",
    "print(f'Tf-Idf Reduced Dimension: {original_dimension} -> {tfidf_pca_X_train.shape[1]}')\n",
    "\n",
    "# 2. W2V\n",
    "original_dimension = w2v_X_train.shape[1]\n",
    "w2v_pca_X_train = pca.fit_transform(w2v_X_train)\n",
    "w2v_pca_X_test = pca.transform(w2v_X_test)\n",
    "\n",
    "print(f'W2V Reduced Dimension: {original_dimension} -> {w2v_pca_X_train.shape[1]}')\n",
    "\n",
    "# 3. BERT\n",
    "original_dimension = bert_X_train.shape[1]\n",
    "bert_pca_X_train = pca.fit_transform(bert_X_train)\n",
    "bert_pca_X_test = pca.transform(bert_X_test)\n",
    "\n",
    "print(f'BERT Reduced Dimension: {original_dimension} -> {bert_pca_X_train.shape[1]}')"
   ]
  },
  {
   "cell_type": "markdown",
   "id": "ab639805-75a4-45c6-bef3-802f619e5dfb",
   "metadata": {},
   "source": [
    "###### b. LDA"
   ]
  },
  {
   "cell_type": "code",
   "execution_count": 8,
   "id": "4dcb0b5b-9dd9-413d-9357-0ac18c1faa52",
   "metadata": {
    "tags": []
   },
   "outputs": [
    {
     "name": "stdout",
     "output_type": "stream",
     "text": [
      "Tf-Idf Reduced Dimension: 768 -> 13\n",
      "W2V Reduced Dimension: 768 -> 13\n",
      "BERT Reduced Dimension: 768 -> 13\n"
     ]
    }
   ],
   "source": [
    "# 1. TF-IDF\n",
    "lda = LinearDiscriminantAnalysis()\n",
    "tfidf_lda_X_train = lda.fit_transform(tfidf_X_train, y_train_le)\n",
    "tfidf_lda_X_test = lda.transform(tfidf_X_test)\n",
    "\n",
    "print(f'Tf-Idf Reduced Dimension: {original_dimension} -> {tfidf_lda_X_train.shape[1]}')\n",
    "\n",
    "# 2. W2V\n",
    "lda = LinearDiscriminantAnalysis()\n",
    "pca_y_train_le = np.delete(y_train_le, w2v_weird_document_index[w2v_weird_document_index < X_train.shape[0]], axis=0)\n",
    "w2v_lda_X_train = lda.fit_transform(w2v_X_train, pca_y_train_le)\n",
    "w2v_lda_X_test = lda.transform(w2v_X_test)\n",
    "\n",
    "print(f'W2V Reduced Dimension: {original_dimension} -> {w2v_lda_X_train.shape[1]}')\n",
    "\n",
    "# 3. BERT\n",
    "lda = LinearDiscriminantAnalysis()\n",
    "bert_lda_X_train = lda.fit_transform(bert_X_train, y_train_le)\n",
    "bert_lda_X_test = lda.transform(bert_X_test)\n",
    "\n",
    "print(f'BERT Reduced Dimension: {original_dimension} -> {bert_lda_X_train.shape[1]}')"
   ]
  },
  {
   "cell_type": "markdown",
   "id": "0e0b4210-0e01-4b1b-a2e7-2d9ce98cb1ac",
   "metadata": {},
   "source": [
    "##### 1-5. 데이터 정리"
   ]
  },
  {
   "cell_type": "code",
   "execution_count": 9,
   "id": "e51ade86-e499-445b-87e4-d6efb91138bd",
   "metadata": {
    "tags": []
   },
   "outputs": [],
   "source": [
    "tfidf_X_data = {'train_raw': tfidf_X_train,\n",
    "                'train_pca': tfidf_pca_X_train,\n",
    "                'train_lda': tfidf_lda_X_train,\n",
    "                'test_raw': tfidf_X_test,\n",
    "                'test_pca': tfidf_pca_X_test,\n",
    "                'test_lda': tfidf_lda_X_test}\n",
    "\n",
    "w2v_X_data = {'train_raw': w2v_X_train,\n",
    "              'train_pca': w2v_pca_X_train,\n",
    "              'train_lda': w2v_lda_X_train,\n",
    "              'test_raw': w2v_X_test,\n",
    "              'test_pca': w2v_pca_X_test,\n",
    "              'test_lda': w2v_lda_X_test}\n",
    "\n",
    "bert_X_data = {'train_raw': bert_X_train,\n",
    "               'train_pca': bert_pca_X_train,\n",
    "               'train_lda': bert_lda_X_train,\n",
    "               'test_raw': bert_X_test,\n",
    "               'test_pca': bert_pca_X_test,\n",
    "               'test_lda': bert_lda_X_test}\n",
    "\n",
    "X_data = {'tfidf': tfidf_X_data,\n",
    "          'w2v': w2v_X_data,\n",
    "          'bert': bert_X_data}\n",
    "\n",
    "default_Y_train = {'ohe': y_train_ohe,\n",
    "                   'le': y_train_le}\n",
    "\n",
    "default_Y_test = {'ohe': y_test_ohe,\n",
    "                  'le': y_test_le}\n",
    "\n",
    "w2v_Y_train = {'ohe': np.delete(y_train_ohe, w2v_weird_document_index[w2v_weird_document_index < X_train.shape[0]], axis=0),\n",
    "               'le': np.delete(y_train_le, w2v_weird_document_index[w2v_weird_document_index < X_train.shape[0]], axis=0)}\n",
    "\n",
    "w2v_Y_test = {'ohe': np.delete(y_test_ohe, w2v_weird_document_index[w2v_weird_document_index >= X_train.shape[0]] - X_train.shape[0], axis=0),\n",
    "              'le': np.delete(y_test_le, w2v_weird_document_index[w2v_weird_document_index >= X_train.shape[0]] - X_train.shape[0], axis=0)}\n",
    "\n",
    "tfidf_Y_data = {'train_raw': default_Y_train,\n",
    "                'train_pca': default_Y_train,\n",
    "                'train_lda': default_Y_train,\n",
    "                'test_raw': default_Y_test,\n",
    "                'test_pca': default_Y_test,\n",
    "                'test_lda': default_Y_test}\n",
    "\n",
    "w2v_Y_data = {'train_raw': w2v_Y_train,\n",
    "              'train_pca': w2v_Y_train,\n",
    "              'train_lda': w2v_Y_train,\n",
    "              'test_raw': w2v_Y_test,\n",
    "              'test_pca': w2v_Y_test,\n",
    "              'test_lda': w2v_Y_test}\n",
    "\n",
    "bert_Y_data = {'train_raw': default_Y_train,\n",
    "               'train_pca': default_Y_train,\n",
    "               'train_lda': default_Y_train,\n",
    "               'test_raw': default_Y_test,\n",
    "               'test_pca': default_Y_test,\n",
    "               'test_lda': default_Y_test}\n",
    "\n",
    "Y_data = {'tfidf': tfidf_Y_data,\n",
    "          'w2v': w2v_Y_data,\n",
    "          'bert': bert_Y_data}"
   ]
  },
  {
   "cell_type": "markdown",
   "id": "f275b644-199f-4f16-bb61-c1e4bd4b3d7c",
   "metadata": {},
   "source": [
    "#### 2. 모델 정의"
   ]
  },
  {
   "cell_type": "markdown",
   "id": "ea8cb0a4-c352-4c46-bf67-24c30161d40e",
   "metadata": {},
   "source": [
    "##### 2-0. 결과 저장용 테이블 준비"
   ]
  },
  {
   "cell_type": "code",
   "execution_count": 10,
   "id": "df61e987-8f7f-4327-bb6f-5892bc3b651f",
   "metadata": {
    "tags": []
   },
   "outputs": [],
   "source": [
    "time_table = pd.DataFrame(columns=['we type', 'dim reduction', 'classifier', 'time'])\n",
    "result_table = pd.DataFrame(columns=['index', 'data type', 'we type', 'dim reduction', 'classifier', 'truth', 'prediction'])\n",
    "summary_table = pd.DataFrame(columns=['data type', 'we type', 'dim reduction', 'classifier', 'f1', 'auc'])"
   ]
  },
  {
   "cell_type": "markdown",
   "id": "f45e25a6-634c-4187-8536-eb59f915878c",
   "metadata": {},
   "source": [
    "##### 2-1. LR"
   ]
  },
  {
   "cell_type": "code",
   "execution_count": 11,
   "id": "d2c0e141-fb6b-4fb7-a153-cda0ab47ae32",
   "metadata": {
    "tags": []
   },
   "outputs": [],
   "source": [
    "def LR_process(X_data: Dict,\n",
    "               Y_data: Dict,\n",
    "               we_type: str,\n",
    "               dim_reduction_type: str,\n",
    "               time_table: pd.DataFrame,\n",
    "               result_table: pd.DataFrame,\n",
    "               summary_table: pd.DataFrame) -> None:\n",
    "    # 변수 정의\n",
    "    classifier_model = 'LR'\n",
    "    \n",
    "    # 시간 측정\n",
    "    timer = time.time()\n",
    "\n",
    "    # LR 학습\n",
    "    lr_model = LogisticRegression(multi_class='multinomial')\n",
    "    lr_model.fit(X_data[we_type][f'train_{dim_reduction_type}'],\n",
    "                 Y_data[we_type][f'train_{dim_reduction_type}']['le']) #label-encoding 형태로 받음\n",
    "\n",
    "    # 학습데이터 추론\n",
    "    train_prediction = lr_model.predict(X_data[we_type][f'train_{dim_reduction_type}'])\n",
    "    train_prediction_ohe = ohe.transform(le.inverse_transform(train_prediction.astype(int)).reshape(-1, 1))\n",
    "\n",
    "    f1 = f1_score(Y_data[we_type][f'train_{dim_reduction_type}']['ohe'],\n",
    "                  train_prediction_ohe,\n",
    "                  average='weighted')\n",
    "    auc = roc_auc_score(Y_data[we_type][f'train_{dim_reduction_type}']['ohe'],\n",
    "                        train_prediction_ohe)\n",
    "    \n",
    "    for index in range(train_prediction.shape[0]):\n",
    "        result_table.loc[result_table.shape[0]] = [X_train_index[index],\n",
    "                                                   'train',\n",
    "                                                   we_type,\n",
    "                                                   dim_reduction_type,\n",
    "                                                   classifier_model,\n",
    "                                                   Y_data[we_type][f'train_{dim_reduction_type}']['le'][index],\n",
    "                                                   train_prediction[index]]\n",
    "\n",
    "    summary_table.loc[result_table.shape[0]] = ['train',\n",
    "                                                we_type,\n",
    "                                                dim_reduction_type,\n",
    "                                                classifier_model,\n",
    "                                                f1,\n",
    "                                                auc]\n",
    "\n",
    "    # 검증데이터 추론\n",
    "    test_prediction = lr_model.predict(X_data[we_type][f'test_{dim_reduction_type}'])\n",
    "    test_prediction_ohe = ohe.transform(le.inverse_transform(test_prediction.astype(int)).reshape(-1, 1))\n",
    "    \n",
    "    f1 = f1_score(Y_data[we_type][f'test_{dim_reduction_type}']['ohe'],\n",
    "                  test_prediction_ohe,\n",
    "                  average='weighted')\n",
    "    auc = roc_auc_score(Y_data[we_type][f'test_{dim_reduction_type}']['ohe'],\n",
    "                        test_prediction_ohe)\n",
    "    for index in range(test_prediction.shape[0]):\n",
    "        result_table.loc[result_table.shape[0]] = [X_test_index[index],\n",
    "                                                   'test',\n",
    "                                                   we_type,\n",
    "                                                   dim_reduction_type,\n",
    "                                                   classifier_model,\n",
    "                                                   Y_data[we_type][f'test_{dim_reduction_type}']['le'][index],\n",
    "                                                   test_prediction[index]]\n",
    "\n",
    "    summary_table.loc[summary_table.shape[0]] = ['test',\n",
    "                                                we_type,\n",
    "                                                dim_reduction_type,\n",
    "                                                classifier_model,\n",
    "                                                f1,\n",
    "                                                auc]\n",
    "    \n",
    "    time_table.loc[time_table.shape[0]] = [we_type,\n",
    "                                             dim_reduction_type,\n",
    "                                             classifier_model,\n",
    "                                             time.time() - timer]\n",
    "    \n",
    "    print(f'Elapsed time for {we_type}-{dim_reduction_type} {classifier_model} training: {(time.time() - timer)/60:0.2f} min')"
   ]
  },
  {
   "cell_type": "markdown",
   "id": "fb85ef47-868e-441a-93ab-66d3e8800516",
   "metadata": {},
   "source": [
    "##### 2-2. RF"
   ]
  },
  {
   "cell_type": "code",
   "execution_count": 12,
   "id": "d3422b36-fab9-4e6c-9632-4ea1e30c4c19",
   "metadata": {},
   "outputs": [],
   "source": [
    "def RF_process(X_data: Dict,\n",
    "               Y_data: Dict,\n",
    "               we_type: str,\n",
    "               dim_reduction_type: str,\n",
    "               time_table: pd.DataFrame,\n",
    "               result_table: pd.DataFrame,\n",
    "               summary_table: pd.DataFrame) -> None:\n",
    "    # 변수 정의\n",
    "    classifier_model = 'RF'\n",
    "    \n",
    "    # 시간 측정\n",
    "    timer = time.time()\n",
    "\n",
    "    # 하이퍼파라미터 탐색공간 설정\n",
    "    param_space = {\n",
    "        'n_estimators': Integer(10, 200),\n",
    "        'max_depth': Integer(1, 32),\n",
    "        'min_samples_split': Real(0.1, 1.0),\n",
    "        'min_samples_leaf': Real(0.1, 0.5),\n",
    "        'max_features': Categorical(['sqrt', 'log2'])\n",
    "    }\n",
    "\n",
    "    # 하이퍼파라미터 튜닝\n",
    "    rf_model = RandomForestClassifier()\n",
    "    opt = BayesSearchCV(rf_model, param_space, n_iter=50, cv=10, n_jobs=-1, n_points=8, verbose=0)\n",
    "\n",
    "    # timer = time.time()\n",
    "    # opt.fit(X_train, y_train_le.ravel())\n",
    "    opt.fit(X_data[we_type][f'train_{dim_reduction_type}'],\n",
    "            Y_data[we_type][f'train_{dim_reduction_type}']['le'])\n",
    "\n",
    "    # 모델 학습\n",
    "    rf_model = RandomForestClassifier(**opt.best_params_)\n",
    "    rf_model.fit(X_data[we_type][f'train_{dim_reduction_type}'],\n",
    "                 Y_data[we_type][f'train_{dim_reduction_type}']['le'])\n",
    "    \n",
    "    # 학습데이터 추론\n",
    "    train_prediction = rf_model.predict(X_data[we_type][f'train_{dim_reduction_type}'])\n",
    "    train_prediction_ohe = ohe.transform(le.inverse_transform(train_prediction.astype(int)).reshape(-1, 1))\n",
    "\n",
    "    f1 = f1_score(Y_data[we_type][f'train_{dim_reduction_type}']['ohe'],\n",
    "                  train_prediction_ohe,\n",
    "                  average='weighted')\n",
    "    auc = roc_auc_score(Y_data[we_type][f'train_{dim_reduction_type}']['ohe'],\n",
    "                        train_prediction_ohe)\n",
    "    \n",
    "    for index in range(train_prediction.shape[0]):\n",
    "        result_table.loc[result_table.shape[0]] = [X_train_index[index],\n",
    "                                                   'train',\n",
    "                                                   we_type,\n",
    "                                                   dim_reduction_type,\n",
    "                                                   classifier_model,\n",
    "                                                   Y_data[we_type][f'train_{dim_reduction_type}']['le'][index],\n",
    "                                                   train_prediction[index]]\n",
    "\n",
    "    summary_table.loc[result_table.shape[0]] = ['train',\n",
    "                                                we_type,\n",
    "                                                dim_reduction_type,\n",
    "                                                classifier_model,\n",
    "                                                f1,\n",
    "                                                auc]\n",
    "\n",
    "    # 검증데이터 추론\n",
    "    test_prediction = rf_model.predict(X_data[we_type][f'test_{dim_reduction_type}'])\n",
    "    test_prediction_ohe = ohe.transform(le.inverse_transform(test_prediction.astype(int)).reshape(-1, 1))\n",
    "    \n",
    "    f1 = f1_score(Y_data[we_type][f'test_{dim_reduction_type}']['ohe'],\n",
    "                  test_prediction_ohe,\n",
    "                  average='weighted')\n",
    "    auc = roc_auc_score(Y_data[we_type][f'test_{dim_reduction_type}']['ohe'],\n",
    "                        test_prediction_ohe)\n",
    "    for index in range(test_prediction.shape[0]):\n",
    "        result_table.loc[result_table.shape[0]] = [X_test_index[index],\n",
    "                                                   'test',\n",
    "                                                   we_type,\n",
    "                                                   dim_reduction_type,\n",
    "                                                   classifier_model,\n",
    "                                                   Y_data[we_type][f'test_{dim_reduction_type}']['le'][index],\n",
    "                                                   test_prediction[index]]\n",
    "\n",
    "    summary_table.loc[summary_table.shape[0]] = ['test',\n",
    "                                                we_type,\n",
    "                                                dim_reduction_type,\n",
    "                                                classifier_model,\n",
    "                                                f1,\n",
    "                                                auc]\n",
    "    \n",
    "    time_table.loc[time_table.shape[0]] = [we_type,\n",
    "                                             dim_reduction_type,\n",
    "                                             classifier_model,\n",
    "                                             time.time() - timer]\n",
    "    \n",
    "    print(f'Elapsed time for {we_type}-{dim_reduction_type} {classifier_model} training: {(time.time() - timer)/60:0.2f} min')"
   ]
  },
  {
   "cell_type": "markdown",
   "id": "926e539f-0781-4fd0-9ed3-d8b7a3a10c38",
   "metadata": {},
   "source": [
    "##### 2-3. XGB"
   ]
  },
  {
   "cell_type": "code",
   "execution_count": 13,
   "id": "d5406ca9-4c86-4be6-8ed0-c94c4d47e391",
   "metadata": {},
   "outputs": [],
   "source": [
    "def XGB_process(X_data: Dict,\n",
    "               Y_data: Dict,\n",
    "               we_type: str,\n",
    "               dim_reduction_type: str,\n",
    "               time_table: pd.DataFrame,\n",
    "               result_table: pd.DataFrame,\n",
    "               summary_table: pd.DataFrame) -> None:\n",
    "    # 변수 정의\n",
    "    classifier_model = 'XGB'\n",
    "    \n",
    "    # 시간 측정\n",
    "    timer = time.time()\n",
    "\n",
    "    # 하이퍼파라미터 탐색공간 설정\n",
    "    param_space = {\n",
    "        'learning_rate': (0.01, 1.0, 'log-uniform'),\n",
    "        'max_depth': (1, 50),\n",
    "        'n_estimators': (50, 200),\n",
    "        'min_child_weight': (1, 10),\n",
    "        'subsample': (0.1, 1.0, 'uniform'),\n",
    "        'gamma': (0.1, 5.0),\n",
    "        'colsample_bytree': (0.1, 1.0, 'uniform'),\n",
    "        'alpha': (0.0, 1.0, 'uniform'),\n",
    "        'reg_lambda': (0.0, 1.0, 'uniform')\n",
    "    }\n",
    "\n",
    "    # 하이퍼파라미터 튜닝\n",
    "    xgb_model = xgb.XGBClassifier(objective='multi:softmax')\n",
    "    opt = BayesSearchCV(xgb_model, param_space, n_iter=50, cv=10, n_jobs=-1, n_points=8, verbose=0)\n",
    "\n",
    "    # timer = time.time()\n",
    "    # opt.fit(X_train, y_train_le.ravel())\n",
    "    opt.fit(X_data[we_type][f'train_{dim_reduction_type}'],\n",
    "            Y_data[we_type][f'train_{dim_reduction_type}']['le'])\n",
    "\n",
    "    # 모델 학습\n",
    "    xgb_model = xgb.XGBClassifier(objective='multi:softmax', **opt.best_params_)\n",
    "    xgb_model.fit(X_data[we_type][f'train_{dim_reduction_type}'],\n",
    "                  Y_data[we_type][f'train_{dim_reduction_type}']['le'])\n",
    "\n",
    "    # 학습데이터 추론\n",
    "    train_prediction = xgb_model.predict(X_data[we_type][f'train_{dim_reduction_type}'])\n",
    "    train_prediction_ohe = ohe.transform(le.inverse_transform(train_prediction.astype(int)).reshape(-1, 1))\n",
    "\n",
    "    f1 = f1_score(Y_data[we_type][f'train_{dim_reduction_type}']['ohe'],\n",
    "                  train_prediction_ohe,\n",
    "                  average='weighted')\n",
    "    auc = roc_auc_score(Y_data[we_type][f'train_{dim_reduction_type}']['ohe'],\n",
    "                        train_prediction_ohe)\n",
    "    \n",
    "    for index in range(train_prediction.shape[0]):\n",
    "        result_table.loc[result_table.shape[0]] = [X_train_index[index],\n",
    "                                                   'train',\n",
    "                                                   we_type,\n",
    "                                                   dim_reduction_type,\n",
    "                                                   classifier_model,\n",
    "                                                   Y_data[we_type][f'train_{dim_reduction_type}']['le'][index],\n",
    "                                                   train_prediction[index]]\n",
    "\n",
    "    summary_table.loc[result_table.shape[0]] = ['train',\n",
    "                                                we_type,\n",
    "                                                dim_reduction_type,\n",
    "                                                classifier_model,\n",
    "                                                f1,\n",
    "                                                auc]\n",
    "\n",
    "    # 검증데이터 추론\n",
    "    test_prediction = xgb_model.predict(X_data[we_type][f'test_{dim_reduction_type}'])\n",
    "    test_prediction_ohe = ohe.transform(le.inverse_transform(test_prediction.astype(int)).reshape(-1, 1))\n",
    "    \n",
    "    f1 = f1_score(Y_data[we_type][f'test_{dim_reduction_type}']['ohe'],\n",
    "                  test_prediction_ohe,\n",
    "                  average='weighted')\n",
    "    auc = roc_auc_score(Y_data[we_type][f'test_{dim_reduction_type}']['ohe'],\n",
    "                        test_prediction_ohe)\n",
    "    for index in range(test_prediction.shape[0]):\n",
    "        result_table.loc[result_table.shape[0]] = [X_test_index[index],\n",
    "                                                   'test',\n",
    "                                                   we_type,\n",
    "                                                   dim_reduction_type,\n",
    "                                                   classifier_model,\n",
    "                                                   Y_data[we_type][f'test_{dim_reduction_type}']['le'][index],\n",
    "                                                   test_prediction[index]]\n",
    "\n",
    "    summary_table.loc[summary_table.shape[0]] = ['test',\n",
    "                                                we_type,\n",
    "                                                dim_reduction_type,\n",
    "                                                classifier_model,\n",
    "                                                f1,\n",
    "                                                auc]\n",
    "    \n",
    "    time_table.loc[time_table.shape[0]] = [we_type,\n",
    "                                             dim_reduction_type,\n",
    "                                             classifier_model,\n",
    "                                             time.time() - timer]\n",
    "    \n",
    "    print(f'Elapsed time for {we_type}-{dim_reduction_type} {classifier_model} training: {(time.time() - timer)/60:0.2f} min')"
   ]
  },
  {
   "cell_type": "markdown",
   "id": "f9089e5f-17c1-4bd7-ae48-8819a408aa3e",
   "metadata": {},
   "source": [
    "##### 2-4. SVM"
   ]
  },
  {
   "cell_type": "code",
   "execution_count": 14,
   "id": "cfc56f54-89c1-4176-b285-a13c1d27d5b1",
   "metadata": {},
   "outputs": [],
   "source": [
    "def SVM_process(X_data: Dict,\n",
    "                Y_data: Dict,\n",
    "                we_type: str,\n",
    "                dim_reduction_type: str,\n",
    "                time_table: pd.DataFrame,\n",
    "                result_table: pd.DataFrame,\n",
    "                summary_table: pd.DataFrame) -> None:\n",
    "    # 변수 정의\n",
    "    classifier_model = 'SVM'\n",
    "    \n",
    "    # 시간 측정\n",
    "    timer = time.time()\n",
    "\n",
    "    # 하이퍼파라미터 탐색공간 설정\n",
    "    param_space = {\n",
    "        'C': (1, 10000),\n",
    "        'gamma': (0.01, 1.0)\n",
    "    }\n",
    "\n",
    "    # 하이퍼파라미터 튜닝\n",
    "    svc_rbf = SVC(kernel='rbf')\n",
    "    opt = BayesSearchCV(svc_rbf, param_space, n_iter=50, cv=10, n_jobs=-1, n_points=8, verbose=0)\n",
    "    opt.fit(X_data[we_type][f'train_{dim_reduction_type}'],\n",
    "            Y_data[we_type][f'train_{dim_reduction_type}']['le'])\n",
    "\n",
    "    # 모델 학습\n",
    "    svc_rbf = SVC(kernel='rbf', **opt.best_params_)\n",
    "    svc_rbf.fit(X_data[we_type][f'train_{dim_reduction_type}'],\n",
    "                Y_data[we_type][f'train_{dim_reduction_type}']['le'])\n",
    "\n",
    "    # 학습데이터 추론\n",
    "    train_prediction = svc_rbf.predict(X_data[we_type][f'train_{dim_reduction_type}'])\n",
    "    train_prediction_ohe = ohe.transform(le.inverse_transform(train_prediction.astype(int)).reshape(-1, 1))\n",
    "\n",
    "    f1 = f1_score(Y_data[we_type][f'train_{dim_reduction_type}']['ohe'],\n",
    "                  train_prediction_ohe,\n",
    "                  average='weighted')\n",
    "    auc = roc_auc_score(Y_data[we_type][f'train_{dim_reduction_type}']['ohe'],\n",
    "                        train_prediction_ohe)\n",
    "    \n",
    "    for index in range(train_prediction.shape[0]):\n",
    "        result_table.loc[result_table.shape[0]] = [X_train_index[index],\n",
    "                                                   'train',\n",
    "                                                   we_type,\n",
    "                                                   dim_reduction_type,\n",
    "                                                   classifier_model,\n",
    "                                                   Y_data[we_type][f'train_{dim_reduction_type}']['le'][index],\n",
    "                                                   train_prediction[index]]\n",
    "\n",
    "    summary_table.loc[result_table.shape[0]] = ['train',\n",
    "                                                we_type,\n",
    "                                                dim_reduction_type,\n",
    "                                                classifier_model,\n",
    "                                                f1,\n",
    "                                                auc]\n",
    "\n",
    "    # 검증데이터 추론\n",
    "    test_prediction = svc_rbf.predict(X_data[we_type][f'test_{dim_reduction_type}'])\n",
    "    test_prediction_ohe = ohe.transform(le.inverse_transform(test_prediction.astype(int)).reshape(-1, 1))\n",
    "    \n",
    "    f1 = f1_score(Y_data[we_type][f'test_{dim_reduction_type}']['ohe'],\n",
    "                  test_prediction_ohe,\n",
    "                  average='weighted')\n",
    "    auc = roc_auc_score(Y_data[we_type][f'test_{dim_reduction_type}']['ohe'],\n",
    "                        test_prediction_ohe)\n",
    "    for index in range(test_prediction.shape[0]):\n",
    "        result_table.loc[result_table.shape[0]] = [X_test_index[index],\n",
    "                                                   'test',\n",
    "                                                   we_type,\n",
    "                                                   dim_reduction_type,\n",
    "                                                   classifier_model,\n",
    "                                                   Y_data[we_type][f'test_{dim_reduction_type}']['le'][index],\n",
    "                                                   test_prediction[index]]\n",
    "\n",
    "    summary_table.loc[summary_table.shape[0]] = ['test',\n",
    "                                                we_type,\n",
    "                                                dim_reduction_type,\n",
    "                                                classifier_model,\n",
    "                                                f1,\n",
    "                                                auc]\n",
    "    \n",
    "    time_table.loc[time_table.shape[0]] = [we_type,\n",
    "                                             dim_reduction_type,\n",
    "                                             classifier_model,\n",
    "                                             time.time() - timer]\n",
    "    \n",
    "    print(f'Elapsed time for {we_type}-{dim_reduction_type} {classifier_model} training: {(time.time() - timer)/60:0.2f} min')"
   ]
  },
  {
   "cell_type": "markdown",
   "id": "75b167d4-731c-48f4-ba62-504939b1fa76",
   "metadata": {},
   "source": [
    "##### 3. Experiments"
   ]
  },
  {
   "cell_type": "code",
   "execution_count": 15,
   "id": "936f5a73-7094-45e7-97ec-7e7e1873c985",
   "metadata": {
    "collapsed": true,
    "jupyter": {
     "outputs_hidden": true
    },
    "tags": []
   },
   "outputs": [
    {
     "name": "stdout",
     "output_type": "stream",
     "text": [
      "Elapsed time for tfidf-raw LR training: 0.01 min\n"
     ]
    },
    {
     "name": "stderr",
     "output_type": "stream",
     "text": [
      "/home/hooni/anaconda3/lib/python3.11/site-packages/sklearn/model_selection/_split.py:700: UserWarning: The least populated class in y has only 4 members, which is less than n_splits=10.\n",
      "  warnings.warn(\n",
      "/home/hooni/anaconda3/lib/python3.11/site-packages/sklearn/model_selection/_split.py:700: UserWarning: The least populated class in y has only 4 members, which is less than n_splits=10.\n",
      "  warnings.warn(\n",
      "/home/hooni/anaconda3/lib/python3.11/site-packages/sklearn/model_selection/_split.py:700: UserWarning: The least populated class in y has only 4 members, which is less than n_splits=10.\n",
      "  warnings.warn(\n",
      "/home/hooni/anaconda3/lib/python3.11/site-packages/sklearn/model_selection/_split.py:700: UserWarning: The least populated class in y has only 4 members, which is less than n_splits=10.\n",
      "  warnings.warn(\n",
      "/home/hooni/anaconda3/lib/python3.11/site-packages/sklearn/model_selection/_split.py:700: UserWarning: The least populated class in y has only 4 members, which is less than n_splits=10.\n",
      "  warnings.warn(\n",
      "/home/hooni/anaconda3/lib/python3.11/site-packages/sklearn/model_selection/_split.py:700: UserWarning: The least populated class in y has only 4 members, which is less than n_splits=10.\n",
      "  warnings.warn(\n",
      "/home/hooni/anaconda3/lib/python3.11/site-packages/sklearn/model_selection/_split.py:700: UserWarning: The least populated class in y has only 4 members, which is less than n_splits=10.\n",
      "  warnings.warn(\n"
     ]
    },
    {
     "name": "stdout",
     "output_type": "stream",
     "text": [
      "Elapsed time for tfidf-raw RF training: 0.22 min\n"
     ]
    },
    {
     "name": "stderr",
     "output_type": "stream",
     "text": [
      "/home/hooni/anaconda3/lib/python3.11/site-packages/sklearn/model_selection/_split.py:700: UserWarning: The least populated class in y has only 4 members, which is less than n_splits=10.\n",
      "  warnings.warn(\n",
      "/home/hooni/anaconda3/lib/python3.11/site-packages/sklearn/model_selection/_split.py:700: UserWarning: The least populated class in y has only 4 members, which is less than n_splits=10.\n",
      "  warnings.warn(\n",
      "/home/hooni/anaconda3/lib/python3.11/site-packages/sklearn/model_selection/_split.py:700: UserWarning: The least populated class in y has only 4 members, which is less than n_splits=10.\n",
      "  warnings.warn(\n",
      "/home/hooni/anaconda3/lib/python3.11/site-packages/sklearn/model_selection/_split.py:700: UserWarning: The least populated class in y has only 4 members, which is less than n_splits=10.\n",
      "  warnings.warn(\n",
      "/home/hooni/anaconda3/lib/python3.11/site-packages/joblib/externals/loky/process_executor.py:700: UserWarning: A worker stopped while some jobs were given to the executor. This can be caused by a too short worker timeout or by a memory leak.\n",
      "  warnings.warn(\n",
      "/home/hooni/anaconda3/lib/python3.11/site-packages/sklearn/model_selection/_split.py:700: UserWarning: The least populated class in y has only 4 members, which is less than n_splits=10.\n",
      "  warnings.warn(\n",
      "/home/hooni/anaconda3/lib/python3.11/site-packages/joblib/externals/loky/process_executor.py:700: UserWarning: A worker stopped while some jobs were given to the executor. This can be caused by a too short worker timeout or by a memory leak.\n",
      "  warnings.warn(\n",
      "/home/hooni/anaconda3/lib/python3.11/site-packages/sklearn/model_selection/_split.py:700: UserWarning: The least populated class in y has only 4 members, which is less than n_splits=10.\n",
      "  warnings.warn(\n",
      "/home/hooni/anaconda3/lib/python3.11/site-packages/sklearn/model_selection/_split.py:700: UserWarning: The least populated class in y has only 4 members, which is less than n_splits=10.\n",
      "  warnings.warn(\n"
     ]
    },
    {
     "name": "stdout",
     "output_type": "stream",
     "text": [
      "Elapsed time for tfidf-raw XGB training: 4.65 min\n"
     ]
    },
    {
     "name": "stderr",
     "output_type": "stream",
     "text": [
      "/home/hooni/anaconda3/lib/python3.11/site-packages/sklearn/model_selection/_split.py:700: UserWarning: The least populated class in y has only 4 members, which is less than n_splits=10.\n",
      "  warnings.warn(\n",
      "/home/hooni/anaconda3/lib/python3.11/site-packages/sklearn/model_selection/_split.py:700: UserWarning: The least populated class in y has only 4 members, which is less than n_splits=10.\n",
      "  warnings.warn(\n",
      "/home/hooni/anaconda3/lib/python3.11/site-packages/skopt/optimizer/optimizer.py:449: UserWarning: The objective has been evaluated at this point before.\n",
      "  warnings.warn(\"The objective has been evaluated \"\n",
      "/home/hooni/anaconda3/lib/python3.11/site-packages/skopt/optimizer/optimizer.py:449: UserWarning: The objective has been evaluated at this point before.\n",
      "  warnings.warn(\"The objective has been evaluated \"\n",
      "/home/hooni/anaconda3/lib/python3.11/site-packages/skopt/optimizer/optimizer.py:449: UserWarning: The objective has been evaluated at this point before.\n",
      "  warnings.warn(\"The objective has been evaluated \"\n",
      "/home/hooni/anaconda3/lib/python3.11/site-packages/skopt/optimizer/optimizer.py:449: UserWarning: The objective has been evaluated at this point before.\n",
      "  warnings.warn(\"The objective has been evaluated \"\n",
      "/home/hooni/anaconda3/lib/python3.11/site-packages/sklearn/model_selection/_split.py:700: UserWarning: The least populated class in y has only 4 members, which is less than n_splits=10.\n",
      "  warnings.warn(\n",
      "/home/hooni/anaconda3/lib/python3.11/site-packages/sklearn/model_selection/_split.py:700: UserWarning: The least populated class in y has only 4 members, which is less than n_splits=10.\n",
      "  warnings.warn(\n",
      "/home/hooni/anaconda3/lib/python3.11/site-packages/sklearn/model_selection/_split.py:700: UserWarning: The least populated class in y has only 4 members, which is less than n_splits=10.\n",
      "  warnings.warn(\n",
      "/home/hooni/anaconda3/lib/python3.11/site-packages/sklearn/model_selection/_split.py:700: UserWarning: The least populated class in y has only 4 members, which is less than n_splits=10.\n",
      "  warnings.warn(\n",
      "/home/hooni/anaconda3/lib/python3.11/site-packages/skopt/optimizer/optimizer.py:449: UserWarning: The objective has been evaluated at this point before.\n",
      "  warnings.warn(\"The objective has been evaluated \"\n",
      "/home/hooni/anaconda3/lib/python3.11/site-packages/skopt/optimizer/optimizer.py:449: UserWarning: The objective has been evaluated at this point before.\n",
      "  warnings.warn(\"The objective has been evaluated \"\n",
      "/home/hooni/anaconda3/lib/python3.11/site-packages/sklearn/model_selection/_split.py:700: UserWarning: The least populated class in y has only 4 members, which is less than n_splits=10.\n",
      "  warnings.warn(\n"
     ]
    },
    {
     "name": "stdout",
     "output_type": "stream",
     "text": [
      "Elapsed time for tfidf-raw SVM training: 4.45 min\n",
      "Elapsed time for tfidf-pca LR training: 0.01 min\n"
     ]
    },
    {
     "name": "stderr",
     "output_type": "stream",
     "text": [
      "/home/hooni/anaconda3/lib/python3.11/site-packages/sklearn/model_selection/_split.py:700: UserWarning: The least populated class in y has only 4 members, which is less than n_splits=10.\n",
      "  warnings.warn(\n",
      "/home/hooni/anaconda3/lib/python3.11/site-packages/sklearn/model_selection/_split.py:700: UserWarning: The least populated class in y has only 4 members, which is less than n_splits=10.\n",
      "  warnings.warn(\n",
      "/home/hooni/anaconda3/lib/python3.11/site-packages/sklearn/model_selection/_split.py:700: UserWarning: The least populated class in y has only 4 members, which is less than n_splits=10.\n",
      "  warnings.warn(\n",
      "/home/hooni/anaconda3/lib/python3.11/site-packages/sklearn/model_selection/_split.py:700: UserWarning: The least populated class in y has only 4 members, which is less than n_splits=10.\n",
      "  warnings.warn(\n",
      "/home/hooni/anaconda3/lib/python3.11/site-packages/sklearn/model_selection/_split.py:700: UserWarning: The least populated class in y has only 4 members, which is less than n_splits=10.\n",
      "  warnings.warn(\n",
      "/home/hooni/anaconda3/lib/python3.11/site-packages/sklearn/model_selection/_split.py:700: UserWarning: The least populated class in y has only 4 members, which is less than n_splits=10.\n",
      "  warnings.warn(\n",
      "/home/hooni/anaconda3/lib/python3.11/site-packages/sklearn/model_selection/_split.py:700: UserWarning: The least populated class in y has only 4 members, which is less than n_splits=10.\n",
      "  warnings.warn(\n"
     ]
    },
    {
     "name": "stdout",
     "output_type": "stream",
     "text": [
      "Elapsed time for tfidf-pca RF training: 0.20 min\n"
     ]
    },
    {
     "name": "stderr",
     "output_type": "stream",
     "text": [
      "/home/hooni/anaconda3/lib/python3.11/site-packages/sklearn/model_selection/_split.py:700: UserWarning: The least populated class in y has only 4 members, which is less than n_splits=10.\n",
      "  warnings.warn(\n",
      "/home/hooni/anaconda3/lib/python3.11/site-packages/sklearn/model_selection/_split.py:700: UserWarning: The least populated class in y has only 4 members, which is less than n_splits=10.\n",
      "  warnings.warn(\n",
      "/home/hooni/anaconda3/lib/python3.11/site-packages/sklearn/model_selection/_split.py:700: UserWarning: The least populated class in y has only 4 members, which is less than n_splits=10.\n",
      "  warnings.warn(\n",
      "/home/hooni/anaconda3/lib/python3.11/site-packages/sklearn/model_selection/_split.py:700: UserWarning: The least populated class in y has only 4 members, which is less than n_splits=10.\n",
      "  warnings.warn(\n",
      "/home/hooni/anaconda3/lib/python3.11/site-packages/sklearn/model_selection/_split.py:700: UserWarning: The least populated class in y has only 4 members, which is less than n_splits=10.\n",
      "  warnings.warn(\n",
      "/home/hooni/anaconda3/lib/python3.11/site-packages/sklearn/model_selection/_split.py:700: UserWarning: The least populated class in y has only 4 members, which is less than n_splits=10.\n",
      "  warnings.warn(\n",
      "/home/hooni/anaconda3/lib/python3.11/site-packages/sklearn/model_selection/_split.py:700: UserWarning: The least populated class in y has only 4 members, which is less than n_splits=10.\n",
      "  warnings.warn(\n"
     ]
    },
    {
     "name": "stdout",
     "output_type": "stream",
     "text": [
      "Elapsed time for tfidf-pca XGB training: 7.16 min\n"
     ]
    },
    {
     "name": "stderr",
     "output_type": "stream",
     "text": [
      "/home/hooni/anaconda3/lib/python3.11/site-packages/sklearn/model_selection/_split.py:700: UserWarning: The least populated class in y has only 4 members, which is less than n_splits=10.\n",
      "  warnings.warn(\n",
      "/home/hooni/anaconda3/lib/python3.11/site-packages/sklearn/model_selection/_split.py:700: UserWarning: The least populated class in y has only 4 members, which is less than n_splits=10.\n",
      "  warnings.warn(\n",
      "/home/hooni/anaconda3/lib/python3.11/site-packages/sklearn/model_selection/_split.py:700: UserWarning: The least populated class in y has only 4 members, which is less than n_splits=10.\n",
      "  warnings.warn(\n",
      "/home/hooni/anaconda3/lib/python3.11/site-packages/sklearn/model_selection/_split.py:700: UserWarning: The least populated class in y has only 4 members, which is less than n_splits=10.\n",
      "  warnings.warn(\n",
      "/home/hooni/anaconda3/lib/python3.11/site-packages/sklearn/model_selection/_split.py:700: UserWarning: The least populated class in y has only 4 members, which is less than n_splits=10.\n",
      "  warnings.warn(\n",
      "/home/hooni/anaconda3/lib/python3.11/site-packages/sklearn/model_selection/_split.py:700: UserWarning: The least populated class in y has only 4 members, which is less than n_splits=10.\n",
      "  warnings.warn(\n",
      "/home/hooni/anaconda3/lib/python3.11/site-packages/sklearn/model_selection/_split.py:700: UserWarning: The least populated class in y has only 4 members, which is less than n_splits=10.\n",
      "  warnings.warn(\n"
     ]
    },
    {
     "name": "stdout",
     "output_type": "stream",
     "text": [
      "Elapsed time for tfidf-pca SVM training: 0.21 min\n",
      "Elapsed time for tfidf-lda LR training: 0.01 min\n"
     ]
    },
    {
     "name": "stderr",
     "output_type": "stream",
     "text": [
      "/home/hooni/anaconda3/lib/python3.11/site-packages/sklearn/model_selection/_split.py:700: UserWarning: The least populated class in y has only 4 members, which is less than n_splits=10.\n",
      "  warnings.warn(\n",
      "/home/hooni/anaconda3/lib/python3.11/site-packages/sklearn/model_selection/_split.py:700: UserWarning: The least populated class in y has only 4 members, which is less than n_splits=10.\n",
      "  warnings.warn(\n",
      "/home/hooni/anaconda3/lib/python3.11/site-packages/sklearn/model_selection/_split.py:700: UserWarning: The least populated class in y has only 4 members, which is less than n_splits=10.\n",
      "  warnings.warn(\n",
      "/home/hooni/anaconda3/lib/python3.11/site-packages/sklearn/model_selection/_split.py:700: UserWarning: The least populated class in y has only 4 members, which is less than n_splits=10.\n",
      "  warnings.warn(\n",
      "/home/hooni/anaconda3/lib/python3.11/site-packages/sklearn/model_selection/_split.py:700: UserWarning: The least populated class in y has only 4 members, which is less than n_splits=10.\n",
      "  warnings.warn(\n",
      "/home/hooni/anaconda3/lib/python3.11/site-packages/sklearn/model_selection/_split.py:700: UserWarning: The least populated class in y has only 4 members, which is less than n_splits=10.\n",
      "  warnings.warn(\n",
      "/home/hooni/anaconda3/lib/python3.11/site-packages/sklearn/model_selection/_split.py:700: UserWarning: The least populated class in y has only 4 members, which is less than n_splits=10.\n",
      "  warnings.warn(\n"
     ]
    },
    {
     "name": "stdout",
     "output_type": "stream",
     "text": [
      "Elapsed time for tfidf-lda RF training: 0.28 min\n"
     ]
    },
    {
     "name": "stderr",
     "output_type": "stream",
     "text": [
      "/home/hooni/anaconda3/lib/python3.11/site-packages/sklearn/model_selection/_split.py:700: UserWarning: The least populated class in y has only 4 members, which is less than n_splits=10.\n",
      "  warnings.warn(\n",
      "/home/hooni/anaconda3/lib/python3.11/site-packages/sklearn/model_selection/_split.py:700: UserWarning: The least populated class in y has only 4 members, which is less than n_splits=10.\n",
      "  warnings.warn(\n",
      "/home/hooni/anaconda3/lib/python3.11/site-packages/sklearn/model_selection/_split.py:700: UserWarning: The least populated class in y has only 4 members, which is less than n_splits=10.\n",
      "  warnings.warn(\n",
      "/home/hooni/anaconda3/lib/python3.11/site-packages/sklearn/model_selection/_split.py:700: UserWarning: The least populated class in y has only 4 members, which is less than n_splits=10.\n",
      "  warnings.warn(\n",
      "/home/hooni/anaconda3/lib/python3.11/site-packages/sklearn/model_selection/_split.py:700: UserWarning: The least populated class in y has only 4 members, which is less than n_splits=10.\n",
      "  warnings.warn(\n",
      "/home/hooni/anaconda3/lib/python3.11/site-packages/sklearn/model_selection/_split.py:700: UserWarning: The least populated class in y has only 4 members, which is less than n_splits=10.\n",
      "  warnings.warn(\n",
      "/home/hooni/anaconda3/lib/python3.11/site-packages/sklearn/model_selection/_split.py:700: UserWarning: The least populated class in y has only 4 members, which is less than n_splits=10.\n",
      "  warnings.warn(\n"
     ]
    },
    {
     "name": "stdout",
     "output_type": "stream",
     "text": [
      "Elapsed time for tfidf-lda XGB training: 0.40 min\n"
     ]
    },
    {
     "name": "stderr",
     "output_type": "stream",
     "text": [
      "/home/hooni/anaconda3/lib/python3.11/site-packages/sklearn/model_selection/_split.py:700: UserWarning: The least populated class in y has only 4 members, which is less than n_splits=10.\n",
      "  warnings.warn(\n",
      "/home/hooni/anaconda3/lib/python3.11/site-packages/sklearn/model_selection/_split.py:700: UserWarning: The least populated class in y has only 4 members, which is less than n_splits=10.\n",
      "  warnings.warn(\n",
      "/home/hooni/anaconda3/lib/python3.11/site-packages/sklearn/model_selection/_split.py:700: UserWarning: The least populated class in y has only 4 members, which is less than n_splits=10.\n",
      "  warnings.warn(\n",
      "/home/hooni/anaconda3/lib/python3.11/site-packages/sklearn/model_selection/_split.py:700: UserWarning: The least populated class in y has only 4 members, which is less than n_splits=10.\n",
      "  warnings.warn(\n",
      "/home/hooni/anaconda3/lib/python3.11/site-packages/sklearn/model_selection/_split.py:700: UserWarning: The least populated class in y has only 4 members, which is less than n_splits=10.\n",
      "  warnings.warn(\n",
      "/home/hooni/anaconda3/lib/python3.11/site-packages/sklearn/model_selection/_split.py:700: UserWarning: The least populated class in y has only 4 members, which is less than n_splits=10.\n",
      "  warnings.warn(\n",
      "/home/hooni/anaconda3/lib/python3.11/site-packages/sklearn/model_selection/_split.py:700: UserWarning: The least populated class in y has only 4 members, which is less than n_splits=10.\n",
      "  warnings.warn(\n"
     ]
    },
    {
     "name": "stdout",
     "output_type": "stream",
     "text": [
      "Elapsed time for tfidf-lda SVM training: 0.17 min\n",
      "Elapsed time for w2v-raw LR training: 0.01 min\n"
     ]
    },
    {
     "name": "stderr",
     "output_type": "stream",
     "text": [
      "/home/hooni/anaconda3/lib/python3.11/site-packages/sklearn/model_selection/_split.py:700: UserWarning: The least populated class in y has only 4 members, which is less than n_splits=10.\n",
      "  warnings.warn(\n",
      "/home/hooni/anaconda3/lib/python3.11/site-packages/sklearn/model_selection/_split.py:700: UserWarning: The least populated class in y has only 4 members, which is less than n_splits=10.\n",
      "  warnings.warn(\n",
      "/home/hooni/anaconda3/lib/python3.11/site-packages/sklearn/model_selection/_split.py:700: UserWarning: The least populated class in y has only 4 members, which is less than n_splits=10.\n",
      "  warnings.warn(\n",
      "/home/hooni/anaconda3/lib/python3.11/site-packages/sklearn/model_selection/_split.py:700: UserWarning: The least populated class in y has only 4 members, which is less than n_splits=10.\n",
      "  warnings.warn(\n",
      "/home/hooni/anaconda3/lib/python3.11/site-packages/sklearn/model_selection/_split.py:700: UserWarning: The least populated class in y has only 4 members, which is less than n_splits=10.\n",
      "  warnings.warn(\n",
      "/home/hooni/anaconda3/lib/python3.11/site-packages/sklearn/model_selection/_split.py:700: UserWarning: The least populated class in y has only 4 members, which is less than n_splits=10.\n",
      "  warnings.warn(\n",
      "/home/hooni/anaconda3/lib/python3.11/site-packages/sklearn/model_selection/_split.py:700: UserWarning: The least populated class in y has only 4 members, which is less than n_splits=10.\n",
      "  warnings.warn(\n"
     ]
    },
    {
     "name": "stdout",
     "output_type": "stream",
     "text": [
      "Elapsed time for w2v-raw RF training: 0.24 min\n"
     ]
    },
    {
     "name": "stderr",
     "output_type": "stream",
     "text": [
      "/home/hooni/anaconda3/lib/python3.11/site-packages/sklearn/model_selection/_split.py:700: UserWarning: The least populated class in y has only 4 members, which is less than n_splits=10.\n",
      "  warnings.warn(\n",
      "/home/hooni/anaconda3/lib/python3.11/site-packages/sklearn/model_selection/_split.py:700: UserWarning: The least populated class in y has only 4 members, which is less than n_splits=10.\n",
      "  warnings.warn(\n",
      "/home/hooni/anaconda3/lib/python3.11/site-packages/sklearn/model_selection/_split.py:700: UserWarning: The least populated class in y has only 4 members, which is less than n_splits=10.\n",
      "  warnings.warn(\n",
      "/home/hooni/anaconda3/lib/python3.11/site-packages/sklearn/model_selection/_split.py:700: UserWarning: The least populated class in y has only 4 members, which is less than n_splits=10.\n",
      "  warnings.warn(\n",
      "/home/hooni/anaconda3/lib/python3.11/site-packages/sklearn/model_selection/_split.py:700: UserWarning: The least populated class in y has only 4 members, which is less than n_splits=10.\n",
      "  warnings.warn(\n",
      "/home/hooni/anaconda3/lib/python3.11/site-packages/sklearn/model_selection/_split.py:700: UserWarning: The least populated class in y has only 4 members, which is less than n_splits=10.\n",
      "  warnings.warn(\n",
      "/home/hooni/anaconda3/lib/python3.11/site-packages/sklearn/model_selection/_split.py:700: UserWarning: The least populated class in y has only 4 members, which is less than n_splits=10.\n",
      "  warnings.warn(\n"
     ]
    },
    {
     "name": "stdout",
     "output_type": "stream",
     "text": [
      "Elapsed time for w2v-raw XGB training: 3.77 min\n"
     ]
    },
    {
     "name": "stderr",
     "output_type": "stream",
     "text": [
      "/home/hooni/anaconda3/lib/python3.11/site-packages/sklearn/model_selection/_split.py:700: UserWarning: The least populated class in y has only 4 members, which is less than n_splits=10.\n",
      "  warnings.warn(\n",
      "/home/hooni/anaconda3/lib/python3.11/site-packages/sklearn/model_selection/_split.py:700: UserWarning: The least populated class in y has only 4 members, which is less than n_splits=10.\n",
      "  warnings.warn(\n",
      "/home/hooni/anaconda3/lib/python3.11/site-packages/skopt/optimizer/optimizer.py:449: UserWarning: The objective has been evaluated at this point before.\n",
      "  warnings.warn(\"The objective has been evaluated \"\n",
      "/home/hooni/anaconda3/lib/python3.11/site-packages/sklearn/model_selection/_split.py:700: UserWarning: The least populated class in y has only 4 members, which is less than n_splits=10.\n",
      "  warnings.warn(\n",
      "/home/hooni/anaconda3/lib/python3.11/site-packages/sklearn/model_selection/_split.py:700: UserWarning: The least populated class in y has only 4 members, which is less than n_splits=10.\n",
      "  warnings.warn(\n",
      "/home/hooni/anaconda3/lib/python3.11/site-packages/sklearn/model_selection/_split.py:700: UserWarning: The least populated class in y has only 4 members, which is less than n_splits=10.\n",
      "  warnings.warn(\n",
      "/home/hooni/anaconda3/lib/python3.11/site-packages/sklearn/model_selection/_split.py:700: UserWarning: The least populated class in y has only 4 members, which is less than n_splits=10.\n",
      "  warnings.warn(\n",
      "/home/hooni/anaconda3/lib/python3.11/site-packages/sklearn/model_selection/_split.py:700: UserWarning: The least populated class in y has only 4 members, which is less than n_splits=10.\n",
      "  warnings.warn(\n"
     ]
    },
    {
     "name": "stdout",
     "output_type": "stream",
     "text": [
      "Elapsed time for w2v-raw SVM training: 0.19 min\n",
      "Elapsed time for w2v-pca LR training: 0.01 min\n"
     ]
    },
    {
     "name": "stderr",
     "output_type": "stream",
     "text": [
      "/home/hooni/anaconda3/lib/python3.11/site-packages/sklearn/model_selection/_split.py:700: UserWarning: The least populated class in y has only 4 members, which is less than n_splits=10.\n",
      "  warnings.warn(\n",
      "/home/hooni/anaconda3/lib/python3.11/site-packages/sklearn/model_selection/_split.py:700: UserWarning: The least populated class in y has only 4 members, which is less than n_splits=10.\n",
      "  warnings.warn(\n",
      "/home/hooni/anaconda3/lib/python3.11/site-packages/sklearn/model_selection/_split.py:700: UserWarning: The least populated class in y has only 4 members, which is less than n_splits=10.\n",
      "  warnings.warn(\n",
      "/home/hooni/anaconda3/lib/python3.11/site-packages/sklearn/model_selection/_split.py:700: UserWarning: The least populated class in y has only 4 members, which is less than n_splits=10.\n",
      "  warnings.warn(\n",
      "/home/hooni/anaconda3/lib/python3.11/site-packages/sklearn/model_selection/_split.py:700: UserWarning: The least populated class in y has only 4 members, which is less than n_splits=10.\n",
      "  warnings.warn(\n",
      "/home/hooni/anaconda3/lib/python3.11/site-packages/sklearn/model_selection/_split.py:700: UserWarning: The least populated class in y has only 4 members, which is less than n_splits=10.\n",
      "  warnings.warn(\n",
      "/home/hooni/anaconda3/lib/python3.11/site-packages/sklearn/model_selection/_split.py:700: UserWarning: The least populated class in y has only 4 members, which is less than n_splits=10.\n",
      "  warnings.warn(\n"
     ]
    },
    {
     "name": "stdout",
     "output_type": "stream",
     "text": [
      "Elapsed time for w2v-pca RF training: 0.24 min\n"
     ]
    },
    {
     "name": "stderr",
     "output_type": "stream",
     "text": [
      "/home/hooni/anaconda3/lib/python3.11/site-packages/sklearn/model_selection/_split.py:700: UserWarning: The least populated class in y has only 4 members, which is less than n_splits=10.\n",
      "  warnings.warn(\n",
      "/home/hooni/anaconda3/lib/python3.11/site-packages/sklearn/model_selection/_split.py:700: UserWarning: The least populated class in y has only 4 members, which is less than n_splits=10.\n",
      "  warnings.warn(\n",
      "/home/hooni/anaconda3/lib/python3.11/site-packages/sklearn/model_selection/_split.py:700: UserWarning: The least populated class in y has only 4 members, which is less than n_splits=10.\n",
      "  warnings.warn(\n",
      "/home/hooni/anaconda3/lib/python3.11/site-packages/sklearn/model_selection/_split.py:700: UserWarning: The least populated class in y has only 4 members, which is less than n_splits=10.\n",
      "  warnings.warn(\n",
      "/home/hooni/anaconda3/lib/python3.11/site-packages/sklearn/model_selection/_split.py:700: UserWarning: The least populated class in y has only 4 members, which is less than n_splits=10.\n",
      "  warnings.warn(\n",
      "/home/hooni/anaconda3/lib/python3.11/site-packages/sklearn/model_selection/_split.py:700: UserWarning: The least populated class in y has only 4 members, which is less than n_splits=10.\n",
      "  warnings.warn(\n",
      "/home/hooni/anaconda3/lib/python3.11/site-packages/sklearn/model_selection/_split.py:700: UserWarning: The least populated class in y has only 4 members, which is less than n_splits=10.\n",
      "  warnings.warn(\n"
     ]
    },
    {
     "name": "stdout",
     "output_type": "stream",
     "text": [
      "Elapsed time for w2v-pca XGB training: 1.40 min\n"
     ]
    },
    {
     "name": "stderr",
     "output_type": "stream",
     "text": [
      "/home/hooni/anaconda3/lib/python3.11/site-packages/sklearn/model_selection/_split.py:700: UserWarning: The least populated class in y has only 4 members, which is less than n_splits=10.\n",
      "  warnings.warn(\n",
      "/home/hooni/anaconda3/lib/python3.11/site-packages/sklearn/model_selection/_split.py:700: UserWarning: The least populated class in y has only 4 members, which is less than n_splits=10.\n",
      "  warnings.warn(\n",
      "/home/hooni/anaconda3/lib/python3.11/site-packages/sklearn/model_selection/_split.py:700: UserWarning: The least populated class in y has only 4 members, which is less than n_splits=10.\n",
      "  warnings.warn(\n",
      "/home/hooni/anaconda3/lib/python3.11/site-packages/sklearn/model_selection/_split.py:700: UserWarning: The least populated class in y has only 4 members, which is less than n_splits=10.\n",
      "  warnings.warn(\n",
      "/home/hooni/anaconda3/lib/python3.11/site-packages/sklearn/model_selection/_split.py:700: UserWarning: The least populated class in y has only 4 members, which is less than n_splits=10.\n",
      "  warnings.warn(\n",
      "/home/hooni/anaconda3/lib/python3.11/site-packages/sklearn/model_selection/_split.py:700: UserWarning: The least populated class in y has only 4 members, which is less than n_splits=10.\n",
      "  warnings.warn(\n",
      "/home/hooni/anaconda3/lib/python3.11/site-packages/sklearn/model_selection/_split.py:700: UserWarning: The least populated class in y has only 4 members, which is less than n_splits=10.\n",
      "  warnings.warn(\n"
     ]
    },
    {
     "name": "stdout",
     "output_type": "stream",
     "text": [
      "Elapsed time for w2v-pca SVM training: 0.16 min\n",
      "Elapsed time for w2v-lda LR training: 0.01 min\n"
     ]
    },
    {
     "name": "stderr",
     "output_type": "stream",
     "text": [
      "/home/hooni/anaconda3/lib/python3.11/site-packages/sklearn/model_selection/_split.py:700: UserWarning: The least populated class in y has only 4 members, which is less than n_splits=10.\n",
      "  warnings.warn(\n",
      "/home/hooni/anaconda3/lib/python3.11/site-packages/sklearn/model_selection/_split.py:700: UserWarning: The least populated class in y has only 4 members, which is less than n_splits=10.\n",
      "  warnings.warn(\n",
      "/home/hooni/anaconda3/lib/python3.11/site-packages/sklearn/model_selection/_split.py:700: UserWarning: The least populated class in y has only 4 members, which is less than n_splits=10.\n",
      "  warnings.warn(\n",
      "/home/hooni/anaconda3/lib/python3.11/site-packages/sklearn/model_selection/_split.py:700: UserWarning: The least populated class in y has only 4 members, which is less than n_splits=10.\n",
      "  warnings.warn(\n",
      "/home/hooni/anaconda3/lib/python3.11/site-packages/sklearn/model_selection/_split.py:700: UserWarning: The least populated class in y has only 4 members, which is less than n_splits=10.\n",
      "  warnings.warn(\n",
      "/home/hooni/anaconda3/lib/python3.11/site-packages/sklearn/model_selection/_split.py:700: UserWarning: The least populated class in y has only 4 members, which is less than n_splits=10.\n",
      "  warnings.warn(\n",
      "/home/hooni/anaconda3/lib/python3.11/site-packages/sklearn/model_selection/_split.py:700: UserWarning: The least populated class in y has only 4 members, which is less than n_splits=10.\n",
      "  warnings.warn(\n"
     ]
    },
    {
     "name": "stdout",
     "output_type": "stream",
     "text": [
      "Elapsed time for w2v-lda RF training: 0.32 min\n"
     ]
    },
    {
     "name": "stderr",
     "output_type": "stream",
     "text": [
      "/home/hooni/anaconda3/lib/python3.11/site-packages/sklearn/model_selection/_split.py:700: UserWarning: The least populated class in y has only 4 members, which is less than n_splits=10.\n",
      "  warnings.warn(\n",
      "/home/hooni/anaconda3/lib/python3.11/site-packages/sklearn/model_selection/_split.py:700: UserWarning: The least populated class in y has only 4 members, which is less than n_splits=10.\n",
      "  warnings.warn(\n",
      "/home/hooni/anaconda3/lib/python3.11/site-packages/sklearn/model_selection/_split.py:700: UserWarning: The least populated class in y has only 4 members, which is less than n_splits=10.\n",
      "  warnings.warn(\n",
      "/home/hooni/anaconda3/lib/python3.11/site-packages/sklearn/model_selection/_split.py:700: UserWarning: The least populated class in y has only 4 members, which is less than n_splits=10.\n",
      "  warnings.warn(\n",
      "/home/hooni/anaconda3/lib/python3.11/site-packages/sklearn/model_selection/_split.py:700: UserWarning: The least populated class in y has only 4 members, which is less than n_splits=10.\n",
      "  warnings.warn(\n",
      "/home/hooni/anaconda3/lib/python3.11/site-packages/sklearn/model_selection/_split.py:700: UserWarning: The least populated class in y has only 4 members, which is less than n_splits=10.\n",
      "  warnings.warn(\n",
      "/home/hooni/anaconda3/lib/python3.11/site-packages/sklearn/model_selection/_split.py:700: UserWarning: The least populated class in y has only 4 members, which is less than n_splits=10.\n",
      "  warnings.warn(\n"
     ]
    },
    {
     "name": "stdout",
     "output_type": "stream",
     "text": [
      "Elapsed time for w2v-lda XGB training: 0.45 min\n"
     ]
    },
    {
     "name": "stderr",
     "output_type": "stream",
     "text": [
      "/home/hooni/anaconda3/lib/python3.11/site-packages/sklearn/model_selection/_split.py:700: UserWarning: The least populated class in y has only 4 members, which is less than n_splits=10.\n",
      "  warnings.warn(\n",
      "/home/hooni/anaconda3/lib/python3.11/site-packages/sklearn/model_selection/_split.py:700: UserWarning: The least populated class in y has only 4 members, which is less than n_splits=10.\n",
      "  warnings.warn(\n",
      "/home/hooni/anaconda3/lib/python3.11/site-packages/sklearn/model_selection/_split.py:700: UserWarning: The least populated class in y has only 4 members, which is less than n_splits=10.\n",
      "  warnings.warn(\n",
      "/home/hooni/anaconda3/lib/python3.11/site-packages/sklearn/model_selection/_split.py:700: UserWarning: The least populated class in y has only 4 members, which is less than n_splits=10.\n",
      "  warnings.warn(\n",
      "/home/hooni/anaconda3/lib/python3.11/site-packages/sklearn/model_selection/_split.py:700: UserWarning: The least populated class in y has only 4 members, which is less than n_splits=10.\n",
      "  warnings.warn(\n",
      "/home/hooni/anaconda3/lib/python3.11/site-packages/sklearn/model_selection/_split.py:700: UserWarning: The least populated class in y has only 4 members, which is less than n_splits=10.\n",
      "  warnings.warn(\n",
      "/home/hooni/anaconda3/lib/python3.11/site-packages/sklearn/model_selection/_split.py:700: UserWarning: The least populated class in y has only 4 members, which is less than n_splits=10.\n",
      "  warnings.warn(\n"
     ]
    },
    {
     "name": "stdout",
     "output_type": "stream",
     "text": [
      "Elapsed time for w2v-lda SVM training: 0.17 min\n"
     ]
    },
    {
     "name": "stderr",
     "output_type": "stream",
     "text": [
      "/home/hooni/anaconda3/lib/python3.11/site-packages/sklearn/linear_model/_logistic.py:458: ConvergenceWarning: lbfgs failed to converge (status=1):\n",
      "STOP: TOTAL NO. of ITERATIONS REACHED LIMIT.\n",
      "\n",
      "Increase the number of iterations (max_iter) or scale the data as shown in:\n",
      "    https://scikit-learn.org/stable/modules/preprocessing.html\n",
      "Please also refer to the documentation for alternative solver options:\n",
      "    https://scikit-learn.org/stable/modules/linear_model.html#logistic-regression\n",
      "  n_iter_i = _check_optimize_result(\n"
     ]
    },
    {
     "name": "stdout",
     "output_type": "stream",
     "text": [
      "Elapsed time for bert-raw LR training: 0.01 min\n"
     ]
    },
    {
     "name": "stderr",
     "output_type": "stream",
     "text": [
      "/home/hooni/anaconda3/lib/python3.11/site-packages/sklearn/model_selection/_split.py:700: UserWarning: The least populated class in y has only 4 members, which is less than n_splits=10.\n",
      "  warnings.warn(\n",
      "/home/hooni/anaconda3/lib/python3.11/site-packages/sklearn/model_selection/_split.py:700: UserWarning: The least populated class in y has only 4 members, which is less than n_splits=10.\n",
      "  warnings.warn(\n",
      "/home/hooni/anaconda3/lib/python3.11/site-packages/sklearn/model_selection/_split.py:700: UserWarning: The least populated class in y has only 4 members, which is less than n_splits=10.\n",
      "  warnings.warn(\n",
      "/home/hooni/anaconda3/lib/python3.11/site-packages/sklearn/model_selection/_split.py:700: UserWarning: The least populated class in y has only 4 members, which is less than n_splits=10.\n",
      "  warnings.warn(\n",
      "/home/hooni/anaconda3/lib/python3.11/site-packages/sklearn/model_selection/_split.py:700: UserWarning: The least populated class in y has only 4 members, which is less than n_splits=10.\n",
      "  warnings.warn(\n",
      "/home/hooni/anaconda3/lib/python3.11/site-packages/skopt/optimizer/optimizer.py:449: UserWarning: The objective has been evaluated at this point before.\n",
      "  warnings.warn(\"The objective has been evaluated \"\n",
      "/home/hooni/anaconda3/lib/python3.11/site-packages/skopt/optimizer/optimizer.py:449: UserWarning: The objective has been evaluated at this point before.\n",
      "  warnings.warn(\"The objective has been evaluated \"\n",
      "/home/hooni/anaconda3/lib/python3.11/site-packages/skopt/optimizer/optimizer.py:449: UserWarning: The objective has been evaluated at this point before.\n",
      "  warnings.warn(\"The objective has been evaluated \"\n",
      "/home/hooni/anaconda3/lib/python3.11/site-packages/sklearn/model_selection/_split.py:700: UserWarning: The least populated class in y has only 4 members, which is less than n_splits=10.\n",
      "  warnings.warn(\n",
      "/home/hooni/anaconda3/lib/python3.11/site-packages/sklearn/model_selection/_split.py:700: UserWarning: The least populated class in y has only 4 members, which is less than n_splits=10.\n",
      "  warnings.warn(\n"
     ]
    },
    {
     "name": "stdout",
     "output_type": "stream",
     "text": [
      "Elapsed time for bert-raw RF training: 0.31 min\n"
     ]
    },
    {
     "name": "stderr",
     "output_type": "stream",
     "text": [
      "/home/hooni/anaconda3/lib/python3.11/site-packages/sklearn/model_selection/_split.py:700: UserWarning: The least populated class in y has only 4 members, which is less than n_splits=10.\n",
      "  warnings.warn(\n",
      "/home/hooni/anaconda3/lib/python3.11/site-packages/sklearn/model_selection/_split.py:700: UserWarning: The least populated class in y has only 4 members, which is less than n_splits=10.\n",
      "  warnings.warn(\n",
      "/home/hooni/anaconda3/lib/python3.11/site-packages/sklearn/model_selection/_split.py:700: UserWarning: The least populated class in y has only 4 members, which is less than n_splits=10.\n",
      "  warnings.warn(\n",
      "/home/hooni/anaconda3/lib/python3.11/site-packages/sklearn/model_selection/_split.py:700: UserWarning: The least populated class in y has only 4 members, which is less than n_splits=10.\n",
      "  warnings.warn(\n",
      "/home/hooni/anaconda3/lib/python3.11/site-packages/sklearn/model_selection/_split.py:700: UserWarning: The least populated class in y has only 4 members, which is less than n_splits=10.\n",
      "  warnings.warn(\n",
      "/home/hooni/anaconda3/lib/python3.11/site-packages/sklearn/model_selection/_split.py:700: UserWarning: The least populated class in y has only 4 members, which is less than n_splits=10.\n",
      "  warnings.warn(\n",
      "/home/hooni/anaconda3/lib/python3.11/site-packages/sklearn/model_selection/_split.py:700: UserWarning: The least populated class in y has only 4 members, which is less than n_splits=10.\n",
      "  warnings.warn(\n"
     ]
    },
    {
     "name": "stdout",
     "output_type": "stream",
     "text": [
      "Elapsed time for bert-raw XGB training: 16.76 min\n"
     ]
    },
    {
     "name": "stderr",
     "output_type": "stream",
     "text": [
      "/home/hooni/anaconda3/lib/python3.11/site-packages/sklearn/model_selection/_split.py:700: UserWarning: The least populated class in y has only 4 members, which is less than n_splits=10.\n",
      "  warnings.warn(\n",
      "/home/hooni/anaconda3/lib/python3.11/site-packages/sklearn/model_selection/_split.py:700: UserWarning: The least populated class in y has only 4 members, which is less than n_splits=10.\n",
      "  warnings.warn(\n",
      "/home/hooni/anaconda3/lib/python3.11/site-packages/sklearn/model_selection/_split.py:700: UserWarning: The least populated class in y has only 4 members, which is less than n_splits=10.\n",
      "  warnings.warn(\n",
      "/home/hooni/anaconda3/lib/python3.11/site-packages/sklearn/model_selection/_split.py:700: UserWarning: The least populated class in y has only 4 members, which is less than n_splits=10.\n",
      "  warnings.warn(\n",
      "/home/hooni/anaconda3/lib/python3.11/site-packages/sklearn/model_selection/_split.py:700: UserWarning: The least populated class in y has only 4 members, which is less than n_splits=10.\n",
      "  warnings.warn(\n",
      "/home/hooni/anaconda3/lib/python3.11/site-packages/sklearn/model_selection/_split.py:700: UserWarning: The least populated class in y has only 4 members, which is less than n_splits=10.\n",
      "  warnings.warn(\n",
      "/home/hooni/anaconda3/lib/python3.11/site-packages/sklearn/model_selection/_split.py:700: UserWarning: The least populated class in y has only 4 members, which is less than n_splits=10.\n",
      "  warnings.warn(\n"
     ]
    },
    {
     "name": "stdout",
     "output_type": "stream",
     "text": [
      "Elapsed time for bert-raw SVM training: 0.24 min\n",
      "Elapsed time for bert-pca LR training: 0.01 min\n"
     ]
    },
    {
     "name": "stderr",
     "output_type": "stream",
     "text": [
      "/home/hooni/anaconda3/lib/python3.11/site-packages/sklearn/model_selection/_split.py:700: UserWarning: The least populated class in y has only 4 members, which is less than n_splits=10.\n",
      "  warnings.warn(\n",
      "/home/hooni/anaconda3/lib/python3.11/site-packages/sklearn/model_selection/_split.py:700: UserWarning: The least populated class in y has only 4 members, which is less than n_splits=10.\n",
      "  warnings.warn(\n",
      "/home/hooni/anaconda3/lib/python3.11/site-packages/sklearn/model_selection/_split.py:700: UserWarning: The least populated class in y has only 4 members, which is less than n_splits=10.\n",
      "  warnings.warn(\n",
      "/home/hooni/anaconda3/lib/python3.11/site-packages/sklearn/model_selection/_split.py:700: UserWarning: The least populated class in y has only 4 members, which is less than n_splits=10.\n",
      "  warnings.warn(\n",
      "/home/hooni/anaconda3/lib/python3.11/site-packages/sklearn/model_selection/_split.py:700: UserWarning: The least populated class in y has only 4 members, which is less than n_splits=10.\n",
      "  warnings.warn(\n",
      "/home/hooni/anaconda3/lib/python3.11/site-packages/sklearn/model_selection/_split.py:700: UserWarning: The least populated class in y has only 4 members, which is less than n_splits=10.\n",
      "  warnings.warn(\n",
      "/home/hooni/anaconda3/lib/python3.11/site-packages/sklearn/model_selection/_split.py:700: UserWarning: The least populated class in y has only 4 members, which is less than n_splits=10.\n",
      "  warnings.warn(\n"
     ]
    },
    {
     "name": "stdout",
     "output_type": "stream",
     "text": [
      "Elapsed time for bert-pca RF training: 0.23 min\n"
     ]
    },
    {
     "name": "stderr",
     "output_type": "stream",
     "text": [
      "/home/hooni/anaconda3/lib/python3.11/site-packages/sklearn/model_selection/_split.py:700: UserWarning: The least populated class in y has only 4 members, which is less than n_splits=10.\n",
      "  warnings.warn(\n",
      "/home/hooni/anaconda3/lib/python3.11/site-packages/sklearn/model_selection/_split.py:700: UserWarning: The least populated class in y has only 4 members, which is less than n_splits=10.\n",
      "  warnings.warn(\n",
      "/home/hooni/anaconda3/lib/python3.11/site-packages/sklearn/model_selection/_split.py:700: UserWarning: The least populated class in y has only 4 members, which is less than n_splits=10.\n",
      "  warnings.warn(\n",
      "/home/hooni/anaconda3/lib/python3.11/site-packages/sklearn/model_selection/_split.py:700: UserWarning: The least populated class in y has only 4 members, which is less than n_splits=10.\n",
      "  warnings.warn(\n",
      "/home/hooni/anaconda3/lib/python3.11/site-packages/sklearn/model_selection/_split.py:700: UserWarning: The least populated class in y has only 4 members, which is less than n_splits=10.\n",
      "  warnings.warn(\n",
      "/home/hooni/anaconda3/lib/python3.11/site-packages/sklearn/model_selection/_split.py:700: UserWarning: The least populated class in y has only 4 members, which is less than n_splits=10.\n",
      "  warnings.warn(\n",
      "/home/hooni/anaconda3/lib/python3.11/site-packages/sklearn/model_selection/_split.py:700: UserWarning: The least populated class in y has only 4 members, which is less than n_splits=10.\n",
      "  warnings.warn(\n"
     ]
    },
    {
     "name": "stdout",
     "output_type": "stream",
     "text": [
      "Elapsed time for bert-pca XGB training: 1.32 min\n"
     ]
    },
    {
     "name": "stderr",
     "output_type": "stream",
     "text": [
      "/home/hooni/anaconda3/lib/python3.11/site-packages/sklearn/model_selection/_split.py:700: UserWarning: The least populated class in y has only 4 members, which is less than n_splits=10.\n",
      "  warnings.warn(\n",
      "/home/hooni/anaconda3/lib/python3.11/site-packages/sklearn/model_selection/_split.py:700: UserWarning: The least populated class in y has only 4 members, which is less than n_splits=10.\n",
      "  warnings.warn(\n",
      "/home/hooni/anaconda3/lib/python3.11/site-packages/sklearn/model_selection/_split.py:700: UserWarning: The least populated class in y has only 4 members, which is less than n_splits=10.\n",
      "  warnings.warn(\n",
      "/home/hooni/anaconda3/lib/python3.11/site-packages/skopt/optimizer/optimizer.py:449: UserWarning: The objective has been evaluated at this point before.\n",
      "  warnings.warn(\"The objective has been evaluated \"\n",
      "/home/hooni/anaconda3/lib/python3.11/site-packages/skopt/optimizer/optimizer.py:449: UserWarning: The objective has been evaluated at this point before.\n",
      "  warnings.warn(\"The objective has been evaluated \"\n",
      "/home/hooni/anaconda3/lib/python3.11/site-packages/sklearn/model_selection/_split.py:700: UserWarning: The least populated class in y has only 4 members, which is less than n_splits=10.\n",
      "  warnings.warn(\n",
      "/home/hooni/anaconda3/lib/python3.11/site-packages/sklearn/model_selection/_split.py:700: UserWarning: The least populated class in y has only 4 members, which is less than n_splits=10.\n",
      "  warnings.warn(\n",
      "/home/hooni/anaconda3/lib/python3.11/site-packages/sklearn/model_selection/_split.py:700: UserWarning: The least populated class in y has only 4 members, which is less than n_splits=10.\n",
      "  warnings.warn(\n",
      "/home/hooni/anaconda3/lib/python3.11/site-packages/sklearn/model_selection/_split.py:700: UserWarning: The least populated class in y has only 4 members, which is less than n_splits=10.\n",
      "  warnings.warn(\n"
     ]
    },
    {
     "name": "stdout",
     "output_type": "stream",
     "text": [
      "Elapsed time for bert-pca SVM training: 0.19 min\n"
     ]
    },
    {
     "name": "stderr",
     "output_type": "stream",
     "text": [
      "/home/hooni/anaconda3/lib/python3.11/site-packages/sklearn/linear_model/_logistic.py:458: ConvergenceWarning: lbfgs failed to converge (status=1):\n",
      "STOP: TOTAL NO. of ITERATIONS REACHED LIMIT.\n",
      "\n",
      "Increase the number of iterations (max_iter) or scale the data as shown in:\n",
      "    https://scikit-learn.org/stable/modules/preprocessing.html\n",
      "Please also refer to the documentation for alternative solver options:\n",
      "    https://scikit-learn.org/stable/modules/linear_model.html#logistic-regression\n",
      "  n_iter_i = _check_optimize_result(\n"
     ]
    },
    {
     "name": "stdout",
     "output_type": "stream",
     "text": [
      "Elapsed time for bert-lda LR training: 0.01 min\n"
     ]
    },
    {
     "name": "stderr",
     "output_type": "stream",
     "text": [
      "/home/hooni/anaconda3/lib/python3.11/site-packages/sklearn/model_selection/_split.py:700: UserWarning: The least populated class in y has only 4 members, which is less than n_splits=10.\n",
      "  warnings.warn(\n",
      "/home/hooni/anaconda3/lib/python3.11/site-packages/sklearn/model_selection/_split.py:700: UserWarning: The least populated class in y has only 4 members, which is less than n_splits=10.\n",
      "  warnings.warn(\n",
      "/home/hooni/anaconda3/lib/python3.11/site-packages/sklearn/model_selection/_split.py:700: UserWarning: The least populated class in y has only 4 members, which is less than n_splits=10.\n",
      "  warnings.warn(\n",
      "/home/hooni/anaconda3/lib/python3.11/site-packages/sklearn/model_selection/_split.py:700: UserWarning: The least populated class in y has only 4 members, which is less than n_splits=10.\n",
      "  warnings.warn(\n",
      "/home/hooni/anaconda3/lib/python3.11/site-packages/sklearn/model_selection/_split.py:700: UserWarning: The least populated class in y has only 4 members, which is less than n_splits=10.\n",
      "  warnings.warn(\n",
      "/home/hooni/anaconda3/lib/python3.11/site-packages/sklearn/model_selection/_split.py:700: UserWarning: The least populated class in y has only 4 members, which is less than n_splits=10.\n",
      "  warnings.warn(\n",
      "/home/hooni/anaconda3/lib/python3.11/site-packages/sklearn/model_selection/_split.py:700: UserWarning: The least populated class in y has only 4 members, which is less than n_splits=10.\n",
      "  warnings.warn(\n"
     ]
    },
    {
     "name": "stdout",
     "output_type": "stream",
     "text": [
      "Elapsed time for bert-lda RF training: 0.33 min\n"
     ]
    },
    {
     "name": "stderr",
     "output_type": "stream",
     "text": [
      "/home/hooni/anaconda3/lib/python3.11/site-packages/sklearn/model_selection/_split.py:700: UserWarning: The least populated class in y has only 4 members, which is less than n_splits=10.\n",
      "  warnings.warn(\n",
      "/home/hooni/anaconda3/lib/python3.11/site-packages/sklearn/model_selection/_split.py:700: UserWarning: The least populated class in y has only 4 members, which is less than n_splits=10.\n",
      "  warnings.warn(\n",
      "/home/hooni/anaconda3/lib/python3.11/site-packages/sklearn/model_selection/_split.py:700: UserWarning: The least populated class in y has only 4 members, which is less than n_splits=10.\n",
      "  warnings.warn(\n",
      "/home/hooni/anaconda3/lib/python3.11/site-packages/sklearn/model_selection/_split.py:700: UserWarning: The least populated class in y has only 4 members, which is less than n_splits=10.\n",
      "  warnings.warn(\n",
      "/home/hooni/anaconda3/lib/python3.11/site-packages/sklearn/model_selection/_split.py:700: UserWarning: The least populated class in y has only 4 members, which is less than n_splits=10.\n",
      "  warnings.warn(\n",
      "/home/hooni/anaconda3/lib/python3.11/site-packages/sklearn/model_selection/_split.py:700: UserWarning: The least populated class in y has only 4 members, which is less than n_splits=10.\n",
      "  warnings.warn(\n",
      "/home/hooni/anaconda3/lib/python3.11/site-packages/sklearn/model_selection/_split.py:700: UserWarning: The least populated class in y has only 4 members, which is less than n_splits=10.\n",
      "  warnings.warn(\n"
     ]
    },
    {
     "name": "stdout",
     "output_type": "stream",
     "text": [
      "Elapsed time for bert-lda XGB training: 0.41 min\n"
     ]
    },
    {
     "name": "stderr",
     "output_type": "stream",
     "text": [
      "/home/hooni/anaconda3/lib/python3.11/site-packages/sklearn/model_selection/_split.py:700: UserWarning: The least populated class in y has only 4 members, which is less than n_splits=10.\n",
      "  warnings.warn(\n",
      "/home/hooni/anaconda3/lib/python3.11/site-packages/sklearn/model_selection/_split.py:700: UserWarning: The least populated class in y has only 4 members, which is less than n_splits=10.\n",
      "  warnings.warn(\n",
      "/home/hooni/anaconda3/lib/python3.11/site-packages/skopt/optimizer/optimizer.py:449: UserWarning: The objective has been evaluated at this point before.\n",
      "  warnings.warn(\"The objective has been evaluated \"\n",
      "/home/hooni/anaconda3/lib/python3.11/site-packages/sklearn/model_selection/_split.py:700: UserWarning: The least populated class in y has only 4 members, which is less than n_splits=10.\n",
      "  warnings.warn(\n",
      "/home/hooni/anaconda3/lib/python3.11/site-packages/skopt/optimizer/optimizer.py:449: UserWarning: The objective has been evaluated at this point before.\n",
      "  warnings.warn(\"The objective has been evaluated \"\n",
      "/home/hooni/anaconda3/lib/python3.11/site-packages/skopt/optimizer/optimizer.py:449: UserWarning: The objective has been evaluated at this point before.\n",
      "  warnings.warn(\"The objective has been evaluated \"\n",
      "/home/hooni/anaconda3/lib/python3.11/site-packages/sklearn/model_selection/_split.py:700: UserWarning: The least populated class in y has only 4 members, which is less than n_splits=10.\n",
      "  warnings.warn(\n",
      "/home/hooni/anaconda3/lib/python3.11/site-packages/sklearn/model_selection/_split.py:700: UserWarning: The least populated class in y has only 4 members, which is less than n_splits=10.\n",
      "  warnings.warn(\n",
      "/home/hooni/anaconda3/lib/python3.11/site-packages/sklearn/model_selection/_split.py:700: UserWarning: The least populated class in y has only 4 members, which is less than n_splits=10.\n",
      "  warnings.warn(\n",
      "/home/hooni/anaconda3/lib/python3.11/site-packages/sklearn/model_selection/_split.py:700: UserWarning: The least populated class in y has only 4 members, which is less than n_splits=10.\n",
      "  warnings.warn(\n"
     ]
    },
    {
     "name": "stdout",
     "output_type": "stream",
     "text": [
      "Elapsed time for bert-lda SVM training: 0.18 min\n"
     ]
    }
   ],
   "source": [
    "we_types = ['tfidf', 'w2v', 'bert']\n",
    "dim_reduction_types = ['raw', 'pca', 'lda']\n",
    "classifier_functions = [LR_process, RF_process, XGB_process, SVM_process]\n",
    "\n",
    "for we_type in we_types:\n",
    "    for dim_reduction_type in dim_reduction_types:\n",
    "        for classifier_function in classifier_functions:\n",
    "            classifier_function(X_data=X_data,\n",
    "                                Y_data=Y_data,\n",
    "                                we_type=we_type,\n",
    "                                dim_reduction_type=dim_reduction_type,\n",
    "                                time_table=time_table,\n",
    "                                result_table=result_table,\n",
    "                                summary_table=summary_table)"
   ]
  },
  {
   "cell_type": "markdown",
   "id": "47b32301-ccd5-454a-aef8-d3bdbffea2dd",
   "metadata": {},
   "source": [
    "#### 4. 결과 저장"
   ]
  },
  {
   "cell_type": "code",
   "execution_count": 16,
   "id": "602847c7-5230-4837-a6dc-4d8a866c3b12",
   "metadata": {
    "tags": []
   },
   "outputs": [],
   "source": [
    "summary_table.pivot_table(index=['data type', 'we type', 'dim reduction', 'classifier'],\n",
    "                         values=['f1', 'auc'],\n",
    "                         aggfunc=['mean']).to_excel('result/result_summary.xlsx')\n",
    "\n",
    "time_table.pivot_table(index=['we type', 'dim reduction', 'classifier'],\n",
    "                         values=['time'],\n",
    "                         aggfunc=['mean']).to_excel('result/elapsed_time.xlsx')\n",
    "\n",
    "result_table.to_excel('result/result_table.xlsx')\n",
    "\n",
    "# 완료 Notification\n",
    "SMTPSender.send_mail(subject='[Kei] pss process has been done', message='Job done.')"
   ]
  },
  {
   "cell_type": "code",
   "execution_count": null,
   "id": "2c39507e-803b-4506-8e91-cdcda1555b2c",
   "metadata": {},
   "outputs": [],
   "source": [
    "group_mapper = {'design': 'Production',\n",
    "                'feature': 'Production',\n",
    "                'bugs': 'Production',\n",
    "                'optimization': 'Production',\n",
    "                'tool': 'Production',\n",
    "                'time': 'Production',\n",
    "                'testing': 'Production',\n",
    "                'marketing': 'Business',\n",
    "                'unrelated': 'ETC',\n",
    "                'planning': 'Management',\n",
    "                'communication': 'Management',\n",
    "                'budget': 'Management',\n",
    "                'team': 'Management',\n",
    "                'documentation': 'Management'}"
   ]
  }
 ],
 "metadata": {
  "kernelspec": {
   "display_name": "Python 3 (ipykernel)",
   "language": "python",
   "name": "python3"
  },
  "language_info": {
   "codemirror_mode": {
    "name": "ipython",
    "version": 3
   },
   "file_extension": ".py",
   "mimetype": "text/x-python",
   "name": "python",
   "nbconvert_exporter": "python",
   "pygments_lexer": "ipython3",
   "version": "3.11.3"
  }
 },
 "nbformat": 4,
 "nbformat_minor": 5
}
